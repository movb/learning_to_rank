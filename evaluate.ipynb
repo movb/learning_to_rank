{
 "cells": [
  {
   "cell_type": "code",
   "execution_count": 1,
   "metadata": {},
   "outputs": [
    {
     "name": "stderr",
     "output_type": "stream",
     "text": [
      "/home/mike/anaconda3/envs/ml/lib/python3.6/site-packages/sklearn/cross_validation.py:44: DeprecationWarning: This module was deprecated in version 0.18 in favor of the model_selection module into which all the refactored classes and functions are moved. Also note that the interface of the new CV iterators are different from that of this module. This module will be removed in 0.20.\n",
      "  \"This module will be removed in 0.20.\", DeprecationWarning)\n"
     ]
    }
   ],
   "source": [
    "import pandas as pd\n",
    "import numpy as np\n",
    "import utils\n",
    "import xgboost as xgb"
   ]
  },
  {
   "cell_type": "code",
   "execution_count": 2,
   "metadata": {
    "collapsed": true
   },
   "outputs": [],
   "source": [
    "import importlib\n",
    "utils = importlib.reload(utils)"
   ]
  },
  {
   "cell_type": "code",
   "execution_count": null,
   "metadata": {},
   "outputs": [],
   "source": [
    "!ls"
   ]
  },
  {
   "cell_type": "code",
   "execution_count": 58,
   "metadata": {},
   "outputs": [],
   "source": [
    "df_bm25_unigram_scores = utils.load_from_file(\"df_bm25_unigram_scores.pkl\")\n",
    "df_bm25_unigram_scores_smooth = utils.load_from_file(\"df_bm25_unigram_scores_smooth.pkl\")\n",
    "df_bm25_bigram_scores = utils.load_from_file(\"df_bm25_bigram_scores.pkl\")\n",
    "df_bm25_bigram_scores_smooth = utils.load_from_file(\"df_bm25_bigram_scores_smooth.pkl\")\n",
    "df_bm25_trigram_scores = utils.load_from_file(\"df_bm25_trigram_scores.pkl\")\n",
    "df_bm25_trigram_scores_smooth = utils.load_from_file(\"df_bm25_trigram_scores_smooth.pkl\")\n",
    "df_coverage_scores = utils.load_from_file(\"df_coverage_scores.pkl\")"
   ]
  },
  {
   "cell_type": "code",
   "execution_count": 59,
   "metadata": {
    "collapsed": true
   },
   "outputs": [],
   "source": [
    "test_data = df_bm25_unigram_scores\n",
    "for another_data in [ df_bm25_unigram_scores_smooth,\n",
    "                      df_bm25_bigram_scores,\n",
    "                      df_bm25_bigram_scores_smooth,\n",
    "                      df_bm25_trigram_scores,\n",
    "                      df_bm25_trigram_scores_smooth,\n",
    "                      df_coverage_scores]:\n",
    "    for column in another_data.columns:\n",
    "        if column=='query_id' or column=='doc_id':\n",
    "            continue\n",
    "        test_data[column] = another_data[column]"
   ]
  },
  {
   "cell_type": "code",
   "execution_count": 60,
   "metadata": {
    "collapsed": true
   },
   "outputs": [],
   "source": [
    "df_train_bm25_unigram_scores = utils.load_from_file(\"df_train_bm25_unigram_scores.pkl\")\n",
    "df_train_bm25_unigram_scores_smooth = utils.load_from_file(\"df_train_bm25_unigram_scores_smooth.pkl\")\n",
    "df_train_bm25_bigram_scores = utils.load_from_file(\"df_train_bm25_bigram_scores.pkl\")\n",
    "df_train_bm25_bigram_scores_smooth = utils.load_from_file(\"df_train_bm25_bigram_scores_smooth.pkl\")\n",
    "df_train_bm25_trigram_scores = utils.load_from_file(\"df_train_bm25_trigram_scores.pkl\")\n",
    "df_train_bm25_trigram_scores_smooth = utils.load_from_file(\"df_train_bm25_trigram_scores_smooth.pkl\")\n",
    "df_train_coverage_scores = utils.load_from_file(\"df_train_coverage_scores.pkl\")"
   ]
  },
  {
   "cell_type": "code",
   "execution_count": 69,
   "metadata": {
    "collapsed": true
   },
   "outputs": [],
   "source": [
    "train_data = df_train_bm25_unigram_scores\n",
    "for another_data in [ df_train_bm25_unigram_scores_smooth,\n",
    "                      df_train_bm25_bigram_scores,\n",
    "                      df_train_bm25_bigram_scores_smooth,\n",
    "                      df_train_bm25_trigram_scores,\n",
    "                      df_train_bm25_trigram_scores_smooth,\n",
    "                      df_train_coverage_scores]:\n",
    "    for column in another_data.columns:\n",
    "        if column=='query_id' or column=='doc_id':\n",
    "            continue\n",
    "        train_data[column] = another_data[column]"
   ]
  },
  {
   "cell_type": "code",
   "execution_count": 70,
   "metadata": {},
   "outputs": [
    {
     "data": {
      "text/plain": [
       "Index(['query_id', 'doc_id', 'score_title_bm25', 'score_body_bm25',\n",
       "       'score_title_bm25_smooth', 'score_body_bm25_smooth',\n",
       "       'score_title_bm25_bigram', 'score_body_bm25_bigram',\n",
       "       'score_title_bm25_bigram_smooth', 'score_body_bm25_bigram_smooth',\n",
       "       'score_title_bm25_trigram', 'score_body_bm25_trigram',\n",
       "       'score_title_bm25_trigram_smooth', 'score_body_bm25_trigram_smooth',\n",
       "       'title_count', 'body_count', 'whole_count', 'title_ratio', 'body_ratio',\n",
       "       'whole_ratio', 'target'],\n",
       "      dtype='object')"
      ]
     },
     "execution_count": 70,
     "metadata": {},
     "output_type": "execute_result"
    }
   ],
   "source": [
    "test_data.columns"
   ]
  },
  {
   "cell_type": "code",
   "execution_count": 71,
   "metadata": {
    "collapsed": true
   },
   "outputs": [],
   "source": [
    "queries = utils.load_queries('data/queries_tr.tsv')\n",
    "test_queries = utils.load_test('data/test.tsv')\n",
    "train_queries = utils.load_train('data/clicks.train.tsv')"
   ]
  },
  {
   "cell_type": "code",
   "execution_count": 72,
   "metadata": {
    "collapsed": true
   },
   "outputs": [],
   "source": [
    "train_data['target'] = 0\n",
    "test_data['target'] = 0"
   ]
  },
  {
   "cell_type": "code",
   "execution_count": 73,
   "metadata": {},
   "outputs": [],
   "source": [
    "clicked_pairs = set()\n",
    "for query_id, docs, clicks in train_queries:\n",
    "    clicks_set = set(clicks)\n",
    "    for doc_id in docs:\n",
    "        if doc_id in clicks:\n",
    "            #train_data.target[(train_data.query_id==query_id) & (train_data.doc_id==doc_id)] = 1\n",
    "            clicked_pairs.add((query_id, doc_id))"
   ]
  },
  {
   "cell_type": "code",
   "execution_count": 74,
   "metadata": {
    "collapsed": true
   },
   "outputs": [],
   "source": [
    "train_data.target = train_data.apply(lambda x: (x['query_id'], x['doc_id']) in clicked_pairs, axis=1)"
   ]
  },
  {
   "cell_type": "code",
   "execution_count": 75,
   "metadata": {
    "collapsed": true
   },
   "outputs": [],
   "source": [
    "feature_columns = ['score_title_bm25', 'score_body_bm25',\n",
    "       'score_title_bm25_smooth', 'score_body_bm25_smooth',\n",
    "       'score_title_bm25_bigram', 'score_body_bm25_bigram',\n",
    "       'score_title_bm25_bigram_smooth', 'score_body_bm25_bigram_smooth',\n",
    "       'score_title_bm25_trigram', 'score_body_bm25_trigram',\n",
    "       'score_title_bm25_trigram_smooth', 'score_body_bm25_trigram_smooth',\n",
    "       'title_count', 'body_count', 'whole_count', 'title_ratio', 'body_ratio',\n",
    "       'whole_ratio']"
   ]
  },
  {
   "cell_type": "code",
   "execution_count": 103,
   "metadata": {
    "collapsed": true
   },
   "outputs": [],
   "source": [
    "feature_columns = [#'score_title_bm25', 'score_body_bm25',\n",
    "       #'score_title_bm25_smooth', 'score_body_bm25_smooth',\n",
    "       #'score_title_bm25_bigram', 'score_body_bm25_bigram',\n",
    "       #'score_title_bm25_bigram_smooth', 'score_body_bm25_bigram_smooth',\n",
    "       'score_title_bm25_trigram', 'score_body_bm25_trigram',\n",
    "       #'score_title_bm25_trigram_smooth', 'score_body_bm25_trigram_smooth',\n",
    "       'title_count', 'body_count', 'whole_count', 'title_ratio', 'body_ratio',\n",
    "       'whole_ratio']"
   ]
  },
  {
   "cell_type": "code",
   "execution_count": 104,
   "metadata": {},
   "outputs": [],
   "source": [
    "dtrain = xgb.DMatrix(train_data[feature_columns], label=train_data.target)\n",
    "train_groups = [len(docs) for query_id,docs,clicks in train_queries]\n",
    "dtrain.set_group(train_groups)"
   ]
  },
  {
   "cell_type": "code",
   "execution_count": 105,
   "metadata": {
    "collapsed": true
   },
   "outputs": [],
   "source": [
    "dtest = xgb.DMatrix(test_data[feature_columns], label=test_data.target)\n",
    "test_groups = [len(docs) for query_id,docs in test_queries]\n",
    "dtest.set_group(test_groups)"
   ]
  },
  {
   "cell_type": "code",
   "execution_count": 106,
   "metadata": {
    "collapsed": true
   },
   "outputs": [],
   "source": [
    "param = {'max_depth':5, 'eta':1, 'silent':1, 'objective':'rank:pairwise',\n",
    "         'eval_metric': ['ndcg@5']}"
   ]
  },
  {
   "cell_type": "code",
   "execution_count": 107,
   "metadata": {
    "collapsed": true
   },
   "outputs": [],
   "source": [
    "watchlist  = [(dtest,'eval'), (dtrain,'train')]"
   ]
  },
  {
   "cell_type": "code",
   "execution_count": 108,
   "metadata": {
    "collapsed": true
   },
   "outputs": [],
   "source": [
    "num_round = 500"
   ]
  },
  {
   "cell_type": "code",
   "execution_count": 109,
   "metadata": {},
   "outputs": [
    {
     "name": "stdout",
     "output_type": "stream",
     "text": [
      "[0]\teval-ndcg@5:1\ttrain-ndcg@5:0.116932\n",
      "[1]\teval-ndcg@5:1\ttrain-ndcg@5:0.11943\n",
      "[2]\teval-ndcg@5:1\ttrain-ndcg@5:0.120965\n",
      "[3]\teval-ndcg@5:1\ttrain-ndcg@5:0.12162\n",
      "[4]\teval-ndcg@5:1\ttrain-ndcg@5:0.122976\n",
      "[5]\teval-ndcg@5:1\ttrain-ndcg@5:0.124404\n",
      "[6]\teval-ndcg@5:1\ttrain-ndcg@5:0.125901\n",
      "[7]\teval-ndcg@5:1\ttrain-ndcg@5:0.126952\n",
      "[8]\teval-ndcg@5:1\ttrain-ndcg@5:0.128664\n",
      "[9]\teval-ndcg@5:1\ttrain-ndcg@5:0.129868\n",
      "[10]\teval-ndcg@5:1\ttrain-ndcg@5:0.130471\n",
      "[11]\teval-ndcg@5:1\ttrain-ndcg@5:0.131269\n",
      "[12]\teval-ndcg@5:1\ttrain-ndcg@5:0.131692\n",
      "[13]\teval-ndcg@5:1\ttrain-ndcg@5:0.132212\n",
      "[14]\teval-ndcg@5:1\ttrain-ndcg@5:0.133477\n",
      "[15]\teval-ndcg@5:1\ttrain-ndcg@5:0.133932\n",
      "[16]\teval-ndcg@5:1\ttrain-ndcg@5:0.13434\n",
      "[17]\teval-ndcg@5:1\ttrain-ndcg@5:0.13549\n",
      "[18]\teval-ndcg@5:1\ttrain-ndcg@5:0.136416\n",
      "[19]\teval-ndcg@5:1\ttrain-ndcg@5:0.13632\n",
      "[20]\teval-ndcg@5:1\ttrain-ndcg@5:0.137206\n",
      "[21]\teval-ndcg@5:1\ttrain-ndcg@5:0.137652\n",
      "[22]\teval-ndcg@5:1\ttrain-ndcg@5:0.138182\n",
      "[23]\teval-ndcg@5:1\ttrain-ndcg@5:0.138433\n",
      "[24]\teval-ndcg@5:1\ttrain-ndcg@5:0.138418\n",
      "[25]\teval-ndcg@5:1\ttrain-ndcg@5:0.138266\n",
      "[26]\teval-ndcg@5:1\ttrain-ndcg@5:0.138865\n",
      "[27]\teval-ndcg@5:1\ttrain-ndcg@5:0.139961\n",
      "[28]\teval-ndcg@5:1\ttrain-ndcg@5:0.140459\n",
      "[29]\teval-ndcg@5:1\ttrain-ndcg@5:0.141642\n",
      "[30]\teval-ndcg@5:1\ttrain-ndcg@5:0.1422\n",
      "[31]\teval-ndcg@5:1\ttrain-ndcg@5:0.142978\n",
      "[32]\teval-ndcg@5:1\ttrain-ndcg@5:0.14369\n",
      "[33]\teval-ndcg@5:1\ttrain-ndcg@5:0.144096\n",
      "[34]\teval-ndcg@5:1\ttrain-ndcg@5:0.144007\n",
      "[35]\teval-ndcg@5:1\ttrain-ndcg@5:0.144119\n",
      "[36]\teval-ndcg@5:1\ttrain-ndcg@5:0.144251\n",
      "[37]\teval-ndcg@5:1\ttrain-ndcg@5:0.144639\n",
      "[38]\teval-ndcg@5:1\ttrain-ndcg@5:0.145116\n",
      "[39]\teval-ndcg@5:1\ttrain-ndcg@5:0.145389\n",
      "[40]\teval-ndcg@5:1\ttrain-ndcg@5:0.145815\n",
      "[41]\teval-ndcg@5:1\ttrain-ndcg@5:0.14611\n",
      "[42]\teval-ndcg@5:1\ttrain-ndcg@5:0.146396\n",
      "[43]\teval-ndcg@5:1\ttrain-ndcg@5:0.14702\n",
      "[44]\teval-ndcg@5:1\ttrain-ndcg@5:0.147286\n",
      "[45]\teval-ndcg@5:1\ttrain-ndcg@5:0.14726\n",
      "[46]\teval-ndcg@5:1\ttrain-ndcg@5:0.147411\n",
      "[47]\teval-ndcg@5:1\ttrain-ndcg@5:0.147592\n",
      "[48]\teval-ndcg@5:1\ttrain-ndcg@5:0.14773\n",
      "[49]\teval-ndcg@5:1\ttrain-ndcg@5:0.148518\n",
      "[50]\teval-ndcg@5:1\ttrain-ndcg@5:0.148605\n",
      "[51]\teval-ndcg@5:1\ttrain-ndcg@5:0.148862\n",
      "[52]\teval-ndcg@5:1\ttrain-ndcg@5:0.148952\n",
      "[53]\teval-ndcg@5:1\ttrain-ndcg@5:0.149169\n",
      "[54]\teval-ndcg@5:1\ttrain-ndcg@5:0.149453\n",
      "[55]\teval-ndcg@5:1\ttrain-ndcg@5:0.149643\n",
      "[56]\teval-ndcg@5:1\ttrain-ndcg@5:0.149705\n",
      "[57]\teval-ndcg@5:1\ttrain-ndcg@5:0.149762\n",
      "[58]\teval-ndcg@5:1\ttrain-ndcg@5:0.150274\n",
      "[59]\teval-ndcg@5:1\ttrain-ndcg@5:0.150817\n",
      "[60]\teval-ndcg@5:1\ttrain-ndcg@5:0.150734\n",
      "[61]\teval-ndcg@5:1\ttrain-ndcg@5:0.151054\n",
      "[62]\teval-ndcg@5:1\ttrain-ndcg@5:0.151186\n",
      "[63]\teval-ndcg@5:1\ttrain-ndcg@5:0.151283\n",
      "[64]\teval-ndcg@5:1\ttrain-ndcg@5:0.151548\n",
      "[65]\teval-ndcg@5:1\ttrain-ndcg@5:0.151704\n",
      "[66]\teval-ndcg@5:1\ttrain-ndcg@5:0.151726\n",
      "[67]\teval-ndcg@5:1\ttrain-ndcg@5:0.151864\n",
      "[68]\teval-ndcg@5:1\ttrain-ndcg@5:0.151957\n",
      "[69]\teval-ndcg@5:1\ttrain-ndcg@5:0.15204\n",
      "[70]\teval-ndcg@5:1\ttrain-ndcg@5:0.15205\n",
      "[71]\teval-ndcg@5:1\ttrain-ndcg@5:0.151715\n",
      "[72]\teval-ndcg@5:1\ttrain-ndcg@5:0.15175\n",
      "[73]\teval-ndcg@5:1\ttrain-ndcg@5:0.15175\n",
      "[74]\teval-ndcg@5:1\ttrain-ndcg@5:0.151786\n",
      "[75]\teval-ndcg@5:1\ttrain-ndcg@5:0.152273\n",
      "[76]\teval-ndcg@5:1\ttrain-ndcg@5:0.152329\n",
      "[77]\teval-ndcg@5:1\ttrain-ndcg@5:0.152457\n",
      "[78]\teval-ndcg@5:1\ttrain-ndcg@5:0.152574\n",
      "[79]\teval-ndcg@5:1\ttrain-ndcg@5:0.152635\n",
      "[80]\teval-ndcg@5:1\ttrain-ndcg@5:0.152635\n",
      "[81]\teval-ndcg@5:1\ttrain-ndcg@5:0.152577\n",
      "[82]\teval-ndcg@5:1\ttrain-ndcg@5:0.152641\n",
      "[83]\teval-ndcg@5:1\ttrain-ndcg@5:0.152804\n",
      "[84]\teval-ndcg@5:1\ttrain-ndcg@5:0.152894\n",
      "[85]\teval-ndcg@5:1\ttrain-ndcg@5:0.152957\n",
      "[86]\teval-ndcg@5:1\ttrain-ndcg@5:0.153029\n",
      "[87]\teval-ndcg@5:1\ttrain-ndcg@5:0.152906\n",
      "[88]\teval-ndcg@5:1\ttrain-ndcg@5:0.152924\n",
      "[89]\teval-ndcg@5:1\ttrain-ndcg@5:0.153063\n",
      "[90]\teval-ndcg@5:1\ttrain-ndcg@5:0.153149\n",
      "[91]\teval-ndcg@5:1\ttrain-ndcg@5:0.153193\n",
      "[92]\teval-ndcg@5:1\ttrain-ndcg@5:0.153339\n",
      "[93]\teval-ndcg@5:1\ttrain-ndcg@5:0.153439\n",
      "[94]\teval-ndcg@5:1\ttrain-ndcg@5:0.153464\n",
      "[95]\teval-ndcg@5:1\ttrain-ndcg@5:0.153464\n",
      "[96]\teval-ndcg@5:1\ttrain-ndcg@5:0.153464\n",
      "[97]\teval-ndcg@5:1\ttrain-ndcg@5:0.153464\n",
      "[98]\teval-ndcg@5:1\ttrain-ndcg@5:0.153672\n",
      "[99]\teval-ndcg@5:1\ttrain-ndcg@5:0.153703\n",
      "[100]\teval-ndcg@5:1\ttrain-ndcg@5:0.153709\n",
      "[101]\teval-ndcg@5:1\ttrain-ndcg@5:0.153755\n",
      "[102]\teval-ndcg@5:1\ttrain-ndcg@5:0.153755\n",
      "[103]\teval-ndcg@5:1\ttrain-ndcg@5:0.153755\n",
      "[104]\teval-ndcg@5:1\ttrain-ndcg@5:0.153755\n",
      "[105]\teval-ndcg@5:1\ttrain-ndcg@5:0.153755\n",
      "[106]\teval-ndcg@5:1\ttrain-ndcg@5:0.153735\n",
      "[107]\teval-ndcg@5:1\ttrain-ndcg@5:0.153848\n",
      "[108]\teval-ndcg@5:1\ttrain-ndcg@5:0.153969\n",
      "[109]\teval-ndcg@5:1\ttrain-ndcg@5:0.153969\n",
      "[110]\teval-ndcg@5:1\ttrain-ndcg@5:0.153897\n",
      "[111]\teval-ndcg@5:1\ttrain-ndcg@5:0.154119\n",
      "[112]\teval-ndcg@5:1\ttrain-ndcg@5:0.154123\n",
      "[113]\teval-ndcg@5:1\ttrain-ndcg@5:0.154212\n",
      "[114]\teval-ndcg@5:1\ttrain-ndcg@5:0.154166\n",
      "[115]\teval-ndcg@5:1\ttrain-ndcg@5:0.154179\n",
      "[116]\teval-ndcg@5:1\ttrain-ndcg@5:0.154179\n",
      "[117]\teval-ndcg@5:1\ttrain-ndcg@5:0.154287\n",
      "[118]\teval-ndcg@5:1\ttrain-ndcg@5:0.154257\n",
      "[119]\teval-ndcg@5:1\ttrain-ndcg@5:0.154296\n",
      "[120]\teval-ndcg@5:1\ttrain-ndcg@5:0.154296\n",
      "[121]\teval-ndcg@5:1\ttrain-ndcg@5:0.154325\n",
      "[122]\teval-ndcg@5:1\ttrain-ndcg@5:0.15437\n",
      "[123]\teval-ndcg@5:1\ttrain-ndcg@5:0.154375\n",
      "[124]\teval-ndcg@5:1\ttrain-ndcg@5:0.154384\n",
      "[125]\teval-ndcg@5:1\ttrain-ndcg@5:0.154344\n",
      "[126]\teval-ndcg@5:1\ttrain-ndcg@5:0.154406\n",
      "[127]\teval-ndcg@5:1\ttrain-ndcg@5:0.154406\n",
      "[128]\teval-ndcg@5:1\ttrain-ndcg@5:0.154376\n",
      "[129]\teval-ndcg@5:1\ttrain-ndcg@5:0.154493\n",
      "[130]\teval-ndcg@5:1\ttrain-ndcg@5:0.154674\n",
      "[131]\teval-ndcg@5:1\ttrain-ndcg@5:0.154719\n",
      "[132]\teval-ndcg@5:1\ttrain-ndcg@5:0.154573\n",
      "[133]\teval-ndcg@5:1\ttrain-ndcg@5:0.154568\n",
      "[134]\teval-ndcg@5:1\ttrain-ndcg@5:0.154568\n",
      "[135]\teval-ndcg@5:1\ttrain-ndcg@5:0.154568\n",
      "[136]\teval-ndcg@5:1\ttrain-ndcg@5:0.154568\n",
      "[137]\teval-ndcg@5:1\ttrain-ndcg@5:0.154568\n",
      "[138]\teval-ndcg@5:1\ttrain-ndcg@5:0.154605\n",
      "[139]\teval-ndcg@5:1\ttrain-ndcg@5:0.154605\n",
      "[140]\teval-ndcg@5:1\ttrain-ndcg@5:0.154586\n",
      "[141]\teval-ndcg@5:1\ttrain-ndcg@5:0.154621\n",
      "[142]\teval-ndcg@5:1\ttrain-ndcg@5:0.154621\n",
      "[143]\teval-ndcg@5:1\ttrain-ndcg@5:0.154737\n",
      "[144]\teval-ndcg@5:1\ttrain-ndcg@5:0.154737\n",
      "[145]\teval-ndcg@5:1\ttrain-ndcg@5:0.154753\n",
      "[146]\teval-ndcg@5:1\ttrain-ndcg@5:0.154854\n",
      "[147]\teval-ndcg@5:1\ttrain-ndcg@5:0.154854\n",
      "[148]\teval-ndcg@5:1\ttrain-ndcg@5:0.154849\n",
      "[149]\teval-ndcg@5:1\ttrain-ndcg@5:0.154857\n",
      "[150]\teval-ndcg@5:1\ttrain-ndcg@5:0.154857\n",
      "[151]\teval-ndcg@5:1\ttrain-ndcg@5:0.154978\n",
      "[152]\teval-ndcg@5:1\ttrain-ndcg@5:0.154978\n",
      "[153]\teval-ndcg@5:1\ttrain-ndcg@5:0.154885\n",
      "[154]\teval-ndcg@5:1\ttrain-ndcg@5:0.154885\n",
      "[155]\teval-ndcg@5:1\ttrain-ndcg@5:0.154885\n",
      "[156]\teval-ndcg@5:1\ttrain-ndcg@5:0.154885\n",
      "[157]\teval-ndcg@5:1\ttrain-ndcg@5:0.15485\n",
      "[158]\teval-ndcg@5:1\ttrain-ndcg@5:0.154943\n",
      "[159]\teval-ndcg@5:1\ttrain-ndcg@5:0.15485\n",
      "[160]\teval-ndcg@5:1\ttrain-ndcg@5:0.15485\n",
      "[161]\teval-ndcg@5:1\ttrain-ndcg@5:0.15485\n",
      "[162]\teval-ndcg@5:1\ttrain-ndcg@5:0.154738\n",
      "[163]\teval-ndcg@5:1\ttrain-ndcg@5:0.154847\n",
      "[164]\teval-ndcg@5:1\ttrain-ndcg@5:0.154847\n",
      "[165]\teval-ndcg@5:1\ttrain-ndcg@5:0.154847\n",
      "[166]\teval-ndcg@5:1\ttrain-ndcg@5:0.154855\n",
      "[167]\teval-ndcg@5:1\ttrain-ndcg@5:0.154855\n",
      "[168]\teval-ndcg@5:1\ttrain-ndcg@5:0.154977\n",
      "[169]\teval-ndcg@5:1\ttrain-ndcg@5:0.154977\n",
      "[170]\teval-ndcg@5:1\ttrain-ndcg@5:0.154977\n",
      "[171]\teval-ndcg@5:1\ttrain-ndcg@5:0.154985\n",
      "[172]\teval-ndcg@5:1\ttrain-ndcg@5:0.154999\n",
      "[173]\teval-ndcg@5:1\ttrain-ndcg@5:0.155092\n",
      "[174]\teval-ndcg@5:1\ttrain-ndcg@5:0.155083\n",
      "[175]\teval-ndcg@5:1\ttrain-ndcg@5:0.154999\n",
      "[176]\teval-ndcg@5:1\ttrain-ndcg@5:0.155083\n",
      "[177]\teval-ndcg@5:1\ttrain-ndcg@5:0.155083\n",
      "[178]\teval-ndcg@5:1\ttrain-ndcg@5:0.155083\n",
      "[179]\teval-ndcg@5:1\ttrain-ndcg@5:0.155171\n",
      "[180]\teval-ndcg@5:1\ttrain-ndcg@5:0.155171\n",
      "[181]\teval-ndcg@5:1\ttrain-ndcg@5:0.155171\n",
      "[182]\teval-ndcg@5:1\ttrain-ndcg@5:0.15502\n",
      "[183]\teval-ndcg@5:1\ttrain-ndcg@5:0.155041\n",
      "[184]\teval-ndcg@5:1\ttrain-ndcg@5:0.155038\n",
      "[185]\teval-ndcg@5:1\ttrain-ndcg@5:0.155038\n",
      "[186]\teval-ndcg@5:1\ttrain-ndcg@5:0.154945\n",
      "[187]\teval-ndcg@5:1\ttrain-ndcg@5:0.155051\n",
      "[188]\teval-ndcg@5:1\ttrain-ndcg@5:0.155051\n",
      "[189]\teval-ndcg@5:1\ttrain-ndcg@5:0.155122\n",
      "[190]\teval-ndcg@5:1\ttrain-ndcg@5:0.155143\n",
      "[191]\teval-ndcg@5:1\ttrain-ndcg@5:0.155223\n",
      "[192]\teval-ndcg@5:1\ttrain-ndcg@5:0.155223\n",
      "[193]\teval-ndcg@5:1\ttrain-ndcg@5:0.155218\n",
      "[194]\teval-ndcg@5:1\ttrain-ndcg@5:0.155218\n",
      "[195]\teval-ndcg@5:1\ttrain-ndcg@5:0.155218\n",
      "[196]\teval-ndcg@5:1\ttrain-ndcg@5:0.155218\n",
      "[197]\teval-ndcg@5:1\ttrain-ndcg@5:0.155218\n",
      "[198]\teval-ndcg@5:1\ttrain-ndcg@5:0.155218\n"
     ]
    },
    {
     "name": "stdout",
     "output_type": "stream",
     "text": [
      "[199]\teval-ndcg@5:1\ttrain-ndcg@5:0.155218\n",
      "[200]\teval-ndcg@5:1\ttrain-ndcg@5:0.155223\n",
      "[201]\teval-ndcg@5:1\ttrain-ndcg@5:0.155223\n",
      "[202]\teval-ndcg@5:1\ttrain-ndcg@5:0.155242\n",
      "[203]\teval-ndcg@5:1\ttrain-ndcg@5:0.155242\n",
      "[204]\teval-ndcg@5:1\ttrain-ndcg@5:0.155242\n",
      "[205]\teval-ndcg@5:1\ttrain-ndcg@5:0.155293\n",
      "[206]\teval-ndcg@5:1\ttrain-ndcg@5:0.155215\n",
      "[207]\teval-ndcg@5:1\ttrain-ndcg@5:0.155215\n",
      "[208]\teval-ndcg@5:1\ttrain-ndcg@5:0.155215\n",
      "[209]\teval-ndcg@5:1\ttrain-ndcg@5:0.155114\n",
      "[210]\teval-ndcg@5:1\ttrain-ndcg@5:0.155114\n",
      "[211]\teval-ndcg@5:1\ttrain-ndcg@5:0.155215\n",
      "[212]\teval-ndcg@5:1\ttrain-ndcg@5:0.155306\n",
      "[213]\teval-ndcg@5:1\ttrain-ndcg@5:0.155306\n",
      "[214]\teval-ndcg@5:1\ttrain-ndcg@5:0.155306\n",
      "[215]\teval-ndcg@5:1\ttrain-ndcg@5:0.155306\n",
      "[216]\teval-ndcg@5:1\ttrain-ndcg@5:0.155306\n",
      "[217]\teval-ndcg@5:1\ttrain-ndcg@5:0.155306\n",
      "[218]\teval-ndcg@5:1\ttrain-ndcg@5:0.155306\n",
      "[219]\teval-ndcg@5:1\ttrain-ndcg@5:0.155306\n",
      "[220]\teval-ndcg@5:1\ttrain-ndcg@5:0.155306\n",
      "[221]\teval-ndcg@5:1\ttrain-ndcg@5:0.155204\n",
      "[222]\teval-ndcg@5:1\ttrain-ndcg@5:0.155204\n",
      "[223]\teval-ndcg@5:1\ttrain-ndcg@5:0.155204\n",
      "[224]\teval-ndcg@5:1\ttrain-ndcg@5:0.155204\n",
      "[225]\teval-ndcg@5:1\ttrain-ndcg@5:0.15533\n",
      "[226]\teval-ndcg@5:1\ttrain-ndcg@5:0.15533\n",
      "[227]\teval-ndcg@5:1\ttrain-ndcg@5:0.15533\n",
      "[228]\teval-ndcg@5:1\ttrain-ndcg@5:0.155343\n",
      "[229]\teval-ndcg@5:1\ttrain-ndcg@5:0.155338\n",
      "[230]\teval-ndcg@5:1\ttrain-ndcg@5:0.155292\n",
      "[231]\teval-ndcg@5:1\ttrain-ndcg@5:0.155338\n",
      "[232]\teval-ndcg@5:1\ttrain-ndcg@5:0.155338\n",
      "[233]\teval-ndcg@5:1\ttrain-ndcg@5:0.155338\n",
      "[234]\teval-ndcg@5:1\ttrain-ndcg@5:0.155362\n",
      "[235]\teval-ndcg@5:1\ttrain-ndcg@5:0.155362\n",
      "[236]\teval-ndcg@5:1\ttrain-ndcg@5:0.155362\n",
      "[237]\teval-ndcg@5:1\ttrain-ndcg@5:0.155362\n",
      "[238]\teval-ndcg@5:1\ttrain-ndcg@5:0.155362\n",
      "[239]\teval-ndcg@5:1\ttrain-ndcg@5:0.155367\n",
      "[240]\teval-ndcg@5:1\ttrain-ndcg@5:0.155367\n",
      "[241]\teval-ndcg@5:1\ttrain-ndcg@5:0.155367\n",
      "[242]\teval-ndcg@5:1\ttrain-ndcg@5:0.155367\n",
      "[243]\teval-ndcg@5:1\ttrain-ndcg@5:0.155367\n",
      "[244]\teval-ndcg@5:1\ttrain-ndcg@5:0.155367\n",
      "[245]\teval-ndcg@5:1\ttrain-ndcg@5:0.155367\n",
      "[246]\teval-ndcg@5:1\ttrain-ndcg@5:0.155367\n",
      "[247]\teval-ndcg@5:1\ttrain-ndcg@5:0.155367\n",
      "[248]\teval-ndcg@5:1\ttrain-ndcg@5:0.155367\n",
      "[249]\teval-ndcg@5:1\ttrain-ndcg@5:0.155218\n",
      "[250]\teval-ndcg@5:1\ttrain-ndcg@5:0.155116\n",
      "[251]\teval-ndcg@5:1\ttrain-ndcg@5:0.155188\n",
      "[252]\teval-ndcg@5:1\ttrain-ndcg@5:0.15529\n",
      "[253]\teval-ndcg@5:1\ttrain-ndcg@5:0.15529\n",
      "[254]\teval-ndcg@5:1\ttrain-ndcg@5:0.155218\n",
      "[255]\teval-ndcg@5:1\ttrain-ndcg@5:0.155296\n",
      "[256]\teval-ndcg@5:1\ttrain-ndcg@5:0.155296\n",
      "[257]\teval-ndcg@5:1\ttrain-ndcg@5:0.155296\n",
      "[258]\teval-ndcg@5:1\ttrain-ndcg@5:0.155296\n",
      "[259]\teval-ndcg@5:1\ttrain-ndcg@5:0.155296\n",
      "[260]\teval-ndcg@5:1\ttrain-ndcg@5:0.155296\n",
      "[261]\teval-ndcg@5:1\ttrain-ndcg@5:0.155367\n",
      "[262]\teval-ndcg@5:1\ttrain-ndcg@5:0.155343\n",
      "[263]\teval-ndcg@5:1\ttrain-ndcg@5:0.155343\n",
      "[264]\teval-ndcg@5:1\ttrain-ndcg@5:0.155343\n",
      "[265]\teval-ndcg@5:1\ttrain-ndcg@5:0.155367\n",
      "[266]\teval-ndcg@5:1\ttrain-ndcg@5:0.155367\n",
      "[267]\teval-ndcg@5:1\ttrain-ndcg@5:0.155367\n",
      "[268]\teval-ndcg@5:1\ttrain-ndcg@5:0.155367\n",
      "[269]\teval-ndcg@5:1\ttrain-ndcg@5:0.155367\n",
      "[270]\teval-ndcg@5:1\ttrain-ndcg@5:0.155367\n",
      "[271]\teval-ndcg@5:1\ttrain-ndcg@5:0.155367\n",
      "[272]\teval-ndcg@5:1\ttrain-ndcg@5:0.155343\n",
      "[273]\teval-ndcg@5:1\ttrain-ndcg@5:0.155343\n",
      "[274]\teval-ndcg@5:1\ttrain-ndcg@5:0.155343\n",
      "[275]\teval-ndcg@5:1\ttrain-ndcg@5:0.155343\n",
      "[276]\teval-ndcg@5:1\ttrain-ndcg@5:0.155343\n",
      "[277]\teval-ndcg@5:1\ttrain-ndcg@5:0.155343\n",
      "[278]\teval-ndcg@5:1\ttrain-ndcg@5:0.155343\n",
      "[279]\teval-ndcg@5:1\ttrain-ndcg@5:0.155384\n",
      "[280]\teval-ndcg@5:1\ttrain-ndcg@5:0.155384\n",
      "[281]\teval-ndcg@5:1\ttrain-ndcg@5:0.155384\n",
      "[282]\teval-ndcg@5:1\ttrain-ndcg@5:0.155384\n",
      "[283]\teval-ndcg@5:1\ttrain-ndcg@5:0.155384\n",
      "[284]\teval-ndcg@5:1\ttrain-ndcg@5:0.155408\n",
      "[285]\teval-ndcg@5:1\ttrain-ndcg@5:0.155408\n",
      "[286]\teval-ndcg@5:1\ttrain-ndcg@5:0.155408\n",
      "[287]\teval-ndcg@5:1\ttrain-ndcg@5:0.155408\n",
      "[288]\teval-ndcg@5:1\ttrain-ndcg@5:0.155408\n",
      "[289]\teval-ndcg@5:1\ttrain-ndcg@5:0.155408\n",
      "[290]\teval-ndcg@5:1\ttrain-ndcg@5:0.155408\n",
      "[291]\teval-ndcg@5:1\ttrain-ndcg@5:0.155408\n",
      "[292]\teval-ndcg@5:1\ttrain-ndcg@5:0.155408\n",
      "[293]\teval-ndcg@5:1\ttrain-ndcg@5:0.155408\n",
      "[294]\teval-ndcg@5:1\ttrain-ndcg@5:0.155408\n",
      "[295]\teval-ndcg@5:1\ttrain-ndcg@5:0.155408\n",
      "[296]\teval-ndcg@5:1\ttrain-ndcg@5:0.155408\n",
      "[297]\teval-ndcg@5:1\ttrain-ndcg@5:0.155416\n",
      "[298]\teval-ndcg@5:1\ttrain-ndcg@5:0.155338\n",
      "[299]\teval-ndcg@5:1\ttrain-ndcg@5:0.155416\n",
      "[300]\teval-ndcg@5:1\ttrain-ndcg@5:0.155416\n",
      "[301]\teval-ndcg@5:1\ttrain-ndcg@5:0.155416\n",
      "[302]\teval-ndcg@5:1\ttrain-ndcg@5:0.155416\n",
      "[303]\teval-ndcg@5:1\ttrain-ndcg@5:0.155416\n",
      "[304]\teval-ndcg@5:1\ttrain-ndcg@5:0.155416\n",
      "[305]\teval-ndcg@5:1\ttrain-ndcg@5:0.155416\n",
      "[306]\teval-ndcg@5:1\ttrain-ndcg@5:0.155416\n",
      "[307]\teval-ndcg@5:1\ttrain-ndcg@5:0.155416\n",
      "[308]\teval-ndcg@5:1\ttrain-ndcg@5:0.155416\n",
      "[309]\teval-ndcg@5:1\ttrain-ndcg@5:0.155416\n",
      "[310]\teval-ndcg@5:1\ttrain-ndcg@5:0.155416\n",
      "[311]\teval-ndcg@5:1\ttrain-ndcg@5:0.155416\n",
      "[312]\teval-ndcg@5:1\ttrain-ndcg@5:0.155416\n",
      "[313]\teval-ndcg@5:1\ttrain-ndcg@5:0.155416\n",
      "[314]\teval-ndcg@5:1\ttrain-ndcg@5:0.155416\n",
      "[315]\teval-ndcg@5:1\ttrain-ndcg@5:0.155416\n",
      "[316]\teval-ndcg@5:1\ttrain-ndcg@5:0.155416\n",
      "[317]\teval-ndcg@5:1\ttrain-ndcg@5:0.155416\n",
      "[318]\teval-ndcg@5:1\ttrain-ndcg@5:0.155416\n",
      "[319]\teval-ndcg@5:1\ttrain-ndcg@5:0.155416\n",
      "[320]\teval-ndcg@5:1\ttrain-ndcg@5:0.155416\n",
      "[321]\teval-ndcg@5:1\ttrain-ndcg@5:0.155416\n",
      "[322]\teval-ndcg@5:1\ttrain-ndcg@5:0.155416\n",
      "[323]\teval-ndcg@5:1\ttrain-ndcg@5:0.155416\n",
      "[324]\teval-ndcg@5:1\ttrain-ndcg@5:0.155416\n",
      "[325]\teval-ndcg@5:1\ttrain-ndcg@5:0.155416\n",
      "[326]\teval-ndcg@5:1\ttrain-ndcg@5:0.155416\n",
      "[327]\teval-ndcg@5:1\ttrain-ndcg@5:0.155416\n",
      "[328]\teval-ndcg@5:1\ttrain-ndcg@5:0.155416\n",
      "[329]\teval-ndcg@5:1\ttrain-ndcg@5:0.155416\n",
      "[330]\teval-ndcg@5:1\ttrain-ndcg@5:0.155416\n",
      "[331]\teval-ndcg@5:1\ttrain-ndcg@5:0.155416\n",
      "[332]\teval-ndcg@5:1\ttrain-ndcg@5:0.155416\n",
      "[333]\teval-ndcg@5:1\ttrain-ndcg@5:0.155416\n",
      "[334]\teval-ndcg@5:1\ttrain-ndcg@5:0.155416\n",
      "[335]\teval-ndcg@5:1\ttrain-ndcg@5:0.155416\n",
      "[336]\teval-ndcg@5:1\ttrain-ndcg@5:0.155416\n",
      "[337]\teval-ndcg@5:1\ttrain-ndcg@5:0.155416\n",
      "[338]\teval-ndcg@5:1\ttrain-ndcg@5:0.155416\n",
      "[339]\teval-ndcg@5:1\ttrain-ndcg@5:0.155416\n",
      "[340]\teval-ndcg@5:1\ttrain-ndcg@5:0.155416\n",
      "[341]\teval-ndcg@5:1\ttrain-ndcg@5:0.155416\n",
      "[342]\teval-ndcg@5:1\ttrain-ndcg@5:0.155416\n",
      "[343]\teval-ndcg@5:1\ttrain-ndcg@5:0.155416\n",
      "[344]\teval-ndcg@5:1\ttrain-ndcg@5:0.155416\n",
      "[345]\teval-ndcg@5:1\ttrain-ndcg@5:0.155416\n",
      "[346]\teval-ndcg@5:1\ttrain-ndcg@5:0.155416\n",
      "[347]\teval-ndcg@5:1\ttrain-ndcg@5:0.155416\n",
      "[348]\teval-ndcg@5:1\ttrain-ndcg@5:0.155416\n",
      "[349]\teval-ndcg@5:1\ttrain-ndcg@5:0.155416\n",
      "[350]\teval-ndcg@5:1\ttrain-ndcg@5:0.155416\n",
      "[351]\teval-ndcg@5:1\ttrain-ndcg@5:0.155416\n",
      "[352]\teval-ndcg@5:1\ttrain-ndcg@5:0.155416\n",
      "[353]\teval-ndcg@5:1\ttrain-ndcg@5:0.155416\n",
      "[354]\teval-ndcg@5:1\ttrain-ndcg@5:0.155416\n",
      "[355]\teval-ndcg@5:1\ttrain-ndcg@5:0.155416\n",
      "[356]\teval-ndcg@5:1\ttrain-ndcg@5:0.155416\n",
      "[357]\teval-ndcg@5:1\ttrain-ndcg@5:0.155416\n",
      "[358]\teval-ndcg@5:1\ttrain-ndcg@5:0.155416\n",
      "[359]\teval-ndcg@5:1\ttrain-ndcg@5:0.155416\n",
      "[360]\teval-ndcg@5:1\ttrain-ndcg@5:0.155416\n",
      "[361]\teval-ndcg@5:1\ttrain-ndcg@5:0.155416\n",
      "[362]\teval-ndcg@5:1\ttrain-ndcg@5:0.155416\n",
      "[363]\teval-ndcg@5:1\ttrain-ndcg@5:0.155416\n",
      "[364]\teval-ndcg@5:1\ttrain-ndcg@5:0.155416\n",
      "[365]\teval-ndcg@5:1\ttrain-ndcg@5:0.155416\n",
      "[366]\teval-ndcg@5:1\ttrain-ndcg@5:0.155416\n",
      "[367]\teval-ndcg@5:1\ttrain-ndcg@5:0.155416\n",
      "[368]\teval-ndcg@5:1\ttrain-ndcg@5:0.155416\n",
      "[369]\teval-ndcg@5:1\ttrain-ndcg@5:0.155416\n",
      "[370]\teval-ndcg@5:1\ttrain-ndcg@5:0.155416\n",
      "[371]\teval-ndcg@5:1\ttrain-ndcg@5:0.155416\n",
      "[372]\teval-ndcg@5:1\ttrain-ndcg@5:0.155416\n",
      "[373]\teval-ndcg@5:1\ttrain-ndcg@5:0.155416\n",
      "[374]\teval-ndcg@5:1\ttrain-ndcg@5:0.155416\n",
      "[375]\teval-ndcg@5:1\ttrain-ndcg@5:0.155416\n",
      "[376]\teval-ndcg@5:1\ttrain-ndcg@5:0.155416\n",
      "[377]\teval-ndcg@5:1\ttrain-ndcg@5:0.155416\n",
      "[378]\teval-ndcg@5:1\ttrain-ndcg@5:0.155416\n",
      "[379]\teval-ndcg@5:1\ttrain-ndcg@5:0.155416\n",
      "[380]\teval-ndcg@5:1\ttrain-ndcg@5:0.155416\n",
      "[381]\teval-ndcg@5:1\ttrain-ndcg@5:0.155416\n",
      "[382]\teval-ndcg@5:1\ttrain-ndcg@5:0.155416\n",
      "[383]\teval-ndcg@5:1\ttrain-ndcg@5:0.155416\n",
      "[384]\teval-ndcg@5:1\ttrain-ndcg@5:0.155416\n",
      "[385]\teval-ndcg@5:1\ttrain-ndcg@5:0.155416\n",
      "[386]\teval-ndcg@5:1\ttrain-ndcg@5:0.155416\n",
      "[387]\teval-ndcg@5:1\ttrain-ndcg@5:0.155416\n",
      "[388]\teval-ndcg@5:1\ttrain-ndcg@5:0.155416\n",
      "[389]\teval-ndcg@5:1\ttrain-ndcg@5:0.155416\n",
      "[390]\teval-ndcg@5:1\ttrain-ndcg@5:0.155416\n",
      "[391]\teval-ndcg@5:1\ttrain-ndcg@5:0.155416\n",
      "[392]\teval-ndcg@5:1\ttrain-ndcg@5:0.155416\n",
      "[393]\teval-ndcg@5:1\ttrain-ndcg@5:0.155416\n",
      "[394]\teval-ndcg@5:1\ttrain-ndcg@5:0.155416\n"
     ]
    },
    {
     "name": "stdout",
     "output_type": "stream",
     "text": [
      "[395]\teval-ndcg@5:1\ttrain-ndcg@5:0.155416\n",
      "[396]\teval-ndcg@5:1\ttrain-ndcg@5:0.155416\n",
      "[397]\teval-ndcg@5:1\ttrain-ndcg@5:0.155416\n",
      "[398]\teval-ndcg@5:1\ttrain-ndcg@5:0.155416\n",
      "[399]\teval-ndcg@5:1\ttrain-ndcg@5:0.155416\n",
      "[400]\teval-ndcg@5:1\ttrain-ndcg@5:0.155416\n",
      "[401]\teval-ndcg@5:1\ttrain-ndcg@5:0.155416\n",
      "[402]\teval-ndcg@5:1\ttrain-ndcg@5:0.155416\n",
      "[403]\teval-ndcg@5:1\ttrain-ndcg@5:0.155416\n",
      "[404]\teval-ndcg@5:1\ttrain-ndcg@5:0.155416\n",
      "[405]\teval-ndcg@5:1\ttrain-ndcg@5:0.155416\n",
      "[406]\teval-ndcg@5:1\ttrain-ndcg@5:0.155416\n",
      "[407]\teval-ndcg@5:1\ttrain-ndcg@5:0.155416\n",
      "[408]\teval-ndcg@5:1\ttrain-ndcg@5:0.155416\n",
      "[409]\teval-ndcg@5:1\ttrain-ndcg@5:0.155416\n",
      "[410]\teval-ndcg@5:1\ttrain-ndcg@5:0.155416\n",
      "[411]\teval-ndcg@5:1\ttrain-ndcg@5:0.155416\n",
      "[412]\teval-ndcg@5:1\ttrain-ndcg@5:0.155416\n",
      "[413]\teval-ndcg@5:1\ttrain-ndcg@5:0.155416\n",
      "[414]\teval-ndcg@5:1\ttrain-ndcg@5:0.155416\n",
      "[415]\teval-ndcg@5:1\ttrain-ndcg@5:0.155416\n",
      "[416]\teval-ndcg@5:1\ttrain-ndcg@5:0.155416\n",
      "[417]\teval-ndcg@5:1\ttrain-ndcg@5:0.155416\n",
      "[418]\teval-ndcg@5:1\ttrain-ndcg@5:0.155416\n",
      "[419]\teval-ndcg@5:1\ttrain-ndcg@5:0.155416\n",
      "[420]\teval-ndcg@5:1\ttrain-ndcg@5:0.155416\n",
      "[421]\teval-ndcg@5:1\ttrain-ndcg@5:0.155416\n",
      "[422]\teval-ndcg@5:1\ttrain-ndcg@5:0.155416\n",
      "[423]\teval-ndcg@5:1\ttrain-ndcg@5:0.155416\n",
      "[424]\teval-ndcg@5:1\ttrain-ndcg@5:0.155416\n",
      "[425]\teval-ndcg@5:1\ttrain-ndcg@5:0.155416\n",
      "[426]\teval-ndcg@5:1\ttrain-ndcg@5:0.155416\n",
      "[427]\teval-ndcg@5:1\ttrain-ndcg@5:0.155416\n",
      "[428]\teval-ndcg@5:1\ttrain-ndcg@5:0.155416\n",
      "[429]\teval-ndcg@5:1\ttrain-ndcg@5:0.155416\n",
      "[430]\teval-ndcg@5:1\ttrain-ndcg@5:0.155416\n",
      "[431]\teval-ndcg@5:1\ttrain-ndcg@5:0.155416\n",
      "[432]\teval-ndcg@5:1\ttrain-ndcg@5:0.155416\n",
      "[433]\teval-ndcg@5:1\ttrain-ndcg@5:0.155416\n",
      "[434]\teval-ndcg@5:1\ttrain-ndcg@5:0.155416\n",
      "[435]\teval-ndcg@5:1\ttrain-ndcg@5:0.155416\n",
      "[436]\teval-ndcg@5:1\ttrain-ndcg@5:0.155416\n",
      "[437]\teval-ndcg@5:1\ttrain-ndcg@5:0.155416\n",
      "[438]\teval-ndcg@5:1\ttrain-ndcg@5:0.155416\n",
      "[439]\teval-ndcg@5:1\ttrain-ndcg@5:0.155416\n",
      "[440]\teval-ndcg@5:1\ttrain-ndcg@5:0.155416\n",
      "[441]\teval-ndcg@5:1\ttrain-ndcg@5:0.155416\n",
      "[442]\teval-ndcg@5:1\ttrain-ndcg@5:0.155416\n",
      "[443]\teval-ndcg@5:1\ttrain-ndcg@5:0.155416\n",
      "[444]\teval-ndcg@5:1\ttrain-ndcg@5:0.155416\n",
      "[445]\teval-ndcg@5:1\ttrain-ndcg@5:0.155416\n",
      "[446]\teval-ndcg@5:1\ttrain-ndcg@5:0.155416\n",
      "[447]\teval-ndcg@5:1\ttrain-ndcg@5:0.155416\n",
      "[448]\teval-ndcg@5:1\ttrain-ndcg@5:0.155416\n",
      "[449]\teval-ndcg@5:1\ttrain-ndcg@5:0.155416\n",
      "[450]\teval-ndcg@5:1\ttrain-ndcg@5:0.155416\n",
      "[451]\teval-ndcg@5:1\ttrain-ndcg@5:0.155416\n",
      "[452]\teval-ndcg@5:1\ttrain-ndcg@5:0.155416\n",
      "[453]\teval-ndcg@5:1\ttrain-ndcg@5:0.155416\n",
      "[454]\teval-ndcg@5:1\ttrain-ndcg@5:0.155416\n",
      "[455]\teval-ndcg@5:1\ttrain-ndcg@5:0.155416\n",
      "[456]\teval-ndcg@5:1\ttrain-ndcg@5:0.155416\n",
      "[457]\teval-ndcg@5:1\ttrain-ndcg@5:0.155416\n",
      "[458]\teval-ndcg@5:1\ttrain-ndcg@5:0.155416\n",
      "[459]\teval-ndcg@5:1\ttrain-ndcg@5:0.155416\n",
      "[460]\teval-ndcg@5:1\ttrain-ndcg@5:0.155416\n",
      "[461]\teval-ndcg@5:1\ttrain-ndcg@5:0.155416\n",
      "[462]\teval-ndcg@5:1\ttrain-ndcg@5:0.155416\n",
      "[463]\teval-ndcg@5:1\ttrain-ndcg@5:0.155416\n",
      "[464]\teval-ndcg@5:1\ttrain-ndcg@5:0.155416\n",
      "[465]\teval-ndcg@5:1\ttrain-ndcg@5:0.155416\n",
      "[466]\teval-ndcg@5:1\ttrain-ndcg@5:0.155416\n",
      "[467]\teval-ndcg@5:1\ttrain-ndcg@5:0.155416\n",
      "[468]\teval-ndcg@5:1\ttrain-ndcg@5:0.155416\n",
      "[469]\teval-ndcg@5:1\ttrain-ndcg@5:0.155314\n",
      "[470]\teval-ndcg@5:1\ttrain-ndcg@5:0.155416\n",
      "[471]\teval-ndcg@5:1\ttrain-ndcg@5:0.155416\n",
      "[472]\teval-ndcg@5:1\ttrain-ndcg@5:0.155416\n",
      "[473]\teval-ndcg@5:1\ttrain-ndcg@5:0.155416\n",
      "[474]\teval-ndcg@5:1\ttrain-ndcg@5:0.155416\n",
      "[475]\teval-ndcg@5:1\ttrain-ndcg@5:0.155416\n",
      "[476]\teval-ndcg@5:1\ttrain-ndcg@5:0.155416\n",
      "[477]\teval-ndcg@5:1\ttrain-ndcg@5:0.155416\n",
      "[478]\teval-ndcg@5:1\ttrain-ndcg@5:0.155416\n",
      "[479]\teval-ndcg@5:1\ttrain-ndcg@5:0.155416\n",
      "[480]\teval-ndcg@5:1\ttrain-ndcg@5:0.155416\n",
      "[481]\teval-ndcg@5:1\ttrain-ndcg@5:0.155416\n",
      "[482]\teval-ndcg@5:1\ttrain-ndcg@5:0.155416\n",
      "[483]\teval-ndcg@5:1\ttrain-ndcg@5:0.155416\n",
      "[484]\teval-ndcg@5:1\ttrain-ndcg@5:0.155416\n",
      "[485]\teval-ndcg@5:1\ttrain-ndcg@5:0.155416\n",
      "[486]\teval-ndcg@5:1\ttrain-ndcg@5:0.155416\n",
      "[487]\teval-ndcg@5:1\ttrain-ndcg@5:0.155416\n",
      "[488]\teval-ndcg@5:1\ttrain-ndcg@5:0.155416\n",
      "[489]\teval-ndcg@5:1\ttrain-ndcg@5:0.155416\n",
      "[490]\teval-ndcg@5:1\ttrain-ndcg@5:0.155416\n",
      "[491]\teval-ndcg@5:1\ttrain-ndcg@5:0.155416\n",
      "[492]\teval-ndcg@5:1\ttrain-ndcg@5:0.155416\n",
      "[493]\teval-ndcg@5:1\ttrain-ndcg@5:0.155416\n",
      "[494]\teval-ndcg@5:1\ttrain-ndcg@5:0.155416\n",
      "[495]\teval-ndcg@5:1\ttrain-ndcg@5:0.155416\n",
      "[496]\teval-ndcg@5:1\ttrain-ndcg@5:0.155416\n",
      "[497]\teval-ndcg@5:1\ttrain-ndcg@5:0.155416\n",
      "[498]\teval-ndcg@5:1\ttrain-ndcg@5:0.155416\n",
      "[499]\teval-ndcg@5:1\ttrain-ndcg@5:0.155416\n"
     ]
    }
   ],
   "source": [
    "model = xgb.train(param, dtrain, num_round, watchlist)"
   ]
  },
  {
   "cell_type": "code",
   "execution_count": 36,
   "metadata": {
    "collapsed": true
   },
   "outputs": [],
   "source": [
    "predictions = model.predict(dtest)"
   ]
  },
  {
   "cell_type": "code",
   "execution_count": 40,
   "metadata": {},
   "outputs": [
    {
     "data": {
      "text/plain": [
       "array([-4.61346388, -2.62902498, -6.0048995 , -7.14047623, -7.51059341,\n",
       "       -7.24228573, -1.00295293, -7.15137625, -5.95473385, -4.44423485,\n",
       "        0.26970857, -7.56391525, -2.04789257, -2.51592636, -1.63177133,\n",
       "       -3.63443327,  1.17775869, -3.34799314, -6.58916569, -7.29824018,\n",
       "       -6.47084379, -6.31928396, -3.60964632,  1.29346585, -2.3839283 ,\n",
       "       -1.53302574, -2.86201382, -1.73214769,  3.84289837, -4.78115702,\n",
       "        0.35583115, -0.7107234 , -3.27604222,  3.14303112, -3.15917635,\n",
       "       -7.96436882, -4.57471895, -0.18780178, -7.58180141,  1.3587296 ,\n",
       "       -3.76664829, -4.9190526 , -4.82646799, -4.9190526 , -2.66047931,\n",
       "       -6.58549595, -3.75814486, -1.96842837, -1.41662848, -7.81976986], dtype=float32)"
      ]
     },
     "execution_count": 40,
     "metadata": {},
     "output_type": "execute_result"
    }
   ],
   "source": [
    "predictions[0:50]"
   ]
  },
  {
   "cell_type": "code",
   "execution_count": 43,
   "metadata": {
    "collapsed": true
   },
   "outputs": [],
   "source": [
    "i = 0\n",
    "query_predictions = {}\n",
    "for query_id, docs in test_queries:\n",
    "    query_predictions[query_id] = np.array(predictions[i:i+len(docs)])\n",
    "    i+=len(docs)"
   ]
  },
  {
   "cell_type": "code",
   "execution_count": 44,
   "metadata": {
    "collapsed": true
   },
   "outputs": [],
   "source": [
    "result = []\n",
    "for query_id, docs in test_queries:\n",
    "    top_docs = np.array(docs)[np.flip(np.argsort(query_predictions[query_id]),0)[0:5]]\n",
    "    for doc_id in top_docs:\n",
    "        result.append((query_id, doc_id))"
   ]
  },
  {
   "cell_type": "code",
   "execution_count": 51,
   "metadata": {},
   "outputs": [],
   "source": [
    "df = pd.DataFrame(result, columns=['QueryId','DocID'])"
   ]
  },
  {
   "cell_type": "code",
   "execution_count": 53,
   "metadata": {
    "collapsed": true
   },
   "outputs": [],
   "source": [
    "df.to_csv('submit.csv', index=False)"
   ]
  },
  {
   "cell_type": "code",
   "execution_count": null,
   "metadata": {
    "collapsed": true
   },
   "outputs": [],
   "source": []
  }
 ],
 "metadata": {
  "kernelspec": {
   "display_name": "Python 3",
   "language": "python",
   "name": "python3"
  },
  "language_info": {
   "codemirror_mode": {
    "name": "ipython",
    "version": 3
   },
   "file_extension": ".py",
   "mimetype": "text/x-python",
   "name": "python",
   "nbconvert_exporter": "python",
   "pygments_lexer": "ipython3",
   "version": "3.6.1"
  }
 },
 "nbformat": 4,
 "nbformat_minor": 2
}
