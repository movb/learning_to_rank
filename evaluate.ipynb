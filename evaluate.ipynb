{
 "cells": [
  {
   "cell_type": "code",
   "execution_count": 1,
   "metadata": {
    "collapsed": false
   },
   "outputs": [
    {
     "name": "stderr",
     "output_type": "stream",
     "text": [
      "/home/m.plekhanov/tools/anaconda3/envs/work/lib/python3.5/site-packages/sklearn/cross_validation.py:44: DeprecationWarning: This module was deprecated in version 0.18 in favor of the model_selection module into which all the refactored classes and functions are moved. Also note that the interface of the new CV iterators are different from that of this module. This module will be removed in 0.20.\n",
      "  \"This module will be removed in 0.20.\", DeprecationWarning)\n"
     ]
    }
   ],
   "source": [
    "import pandas as pd\n",
    "import numpy as np\n",
    "import utils\n",
    "import xgboost as xgb\n",
    "from collections import defaultdict"
   ]
  },
  {
   "cell_type": "code",
   "execution_count": 2,
   "metadata": {
    "collapsed": true
   },
   "outputs": [],
   "source": [
    "from importlib import reload\n",
    "utils = reload(utils)"
   ]
  },
  {
   "cell_type": "code",
   "execution_count": 3,
   "metadata": {
    "collapsed": false
   },
   "outputs": [
    {
     "name": "stdout",
     "output_type": "stream",
     "text": [
      "bigrams_cnt.pkl\r\n",
      "bigrams_norm_cnt.pkl\r\n",
      "bm25_bigrams_norm.pkl\r\n",
      "bm25_bigrams.pkl\r\n",
      "bm25_char_trigrams_norm.pkl\r\n",
      "bm25_char_trigrams.pkl\r\n",
      "bm25_unigram_norm.pkl\r\n",
      "bm25_unigram.pkl\r\n",
      "char_trigrams_cnt.pkl\r\n",
      "char_trigrams_norm_cnt.pkl\r\n",
      "df_bm25_bigram_scores_norm.pkl\r\n",
      "df_bm25_bigram_scores.pkl\r\n",
      "df_bm25_bigram_scores_smooth_norm.pkl\r\n",
      "df_bm25_bigram_scores_smooth.pkl\r\n",
      "df_bm25_bigrams_scores.pkl\r\n",
      "df_bm25_trigram_scores.pkl\r\n",
      "df_bm25_trigram_scores_smooth.pkl\r\n",
      "df_bm25_unigram_scores_norm.pkl\r\n",
      "df_bm25_unigram_scores.pkl\r\n",
      "df_bm25_unigram_scores_smooth_norm.pkl\r\n",
      "df_bm25_unigram_scores_smooth_norm.pkl.bak\r\n",
      "df_bm25_unigram_scores_smooth.pkl\r\n",
      "df_coverage_scores.pkl\r\n",
      "df_train_bm25_bigram_scores_norm.pkl\r\n",
      "df_train_bm25_bigram_scores.pkl\r\n",
      "df_train_bm25_bigram_scores_smooth_norm.pkl\r\n",
      "df_train_bm25_bigram_scores_smooth.pkl\r\n",
      "df_train_bm25_trigram_scores.pkl\r\n",
      "df_train_bm25_trigram_scores_smooth.pkl\r\n",
      "df_train_bm25_unigram_scores.pkl\r\n",
      "df_train_bm25_unigram_scores_smooth.pkl\r\n",
      "df_train_coverage_scores.pkl\r\n",
      "index_norm.pkl\r\n",
      "index.pkl\r\n",
      "index_test.pkl\r\n",
      "unigrams_cnt.pkl\r\n",
      "unigrams_norm_cnt.pkl\r\n"
     ]
    }
   ],
   "source": [
    "!ls ./pkls"
   ]
  },
  {
   "cell_type": "code",
   "execution_count": 4,
   "metadata": {
    "collapsed": false
   },
   "outputs": [
    {
     "ename": "ImportError",
     "evalue": "No module named 'pandas.indexes'",
     "output_type": "error",
     "traceback": [
      "\u001b[0;31m---------------------------------------------------------------------------\u001b[0m",
      "\u001b[0;31mImportError\u001b[0m                               Traceback (most recent call last)",
      "\u001b[0;32m<ipython-input-4-61b089e6e451>\u001b[0m in \u001b[0;36m<module>\u001b[0;34m()\u001b[0m\n\u001b[1;32m      5\u001b[0m \u001b[0;31m#df_bm25_trigram_scores = utils.load_from_file(\"pkls/df_bm25_trigram_scores.pkl\")\u001b[0m\u001b[0;34m\u001b[0m\u001b[0;34m\u001b[0m\u001b[0m\n\u001b[1;32m      6\u001b[0m \u001b[0;31m#df_bm25_trigram_scores_smooth = utils.load_from_file(\"pkls/df_bm25_trigram_scores_smooth.pkl\")\u001b[0m\u001b[0;34m\u001b[0m\u001b[0;34m\u001b[0m\u001b[0m\n\u001b[0;32m----> 7\u001b[0;31m \u001b[0mdf_coverage_scores\u001b[0m \u001b[0;34m=\u001b[0m \u001b[0mutils\u001b[0m\u001b[0;34m.\u001b[0m\u001b[0mload_from_file\u001b[0m\u001b[0;34m(\u001b[0m\u001b[0;34m\"pkls/df_coverage_scores.pkl\"\u001b[0m\u001b[0;34m)\u001b[0m\u001b[0;34m\u001b[0m\u001b[0m\n\u001b[0m",
      "\u001b[0;32m/home/m.plekhanov/my/learning_to_rank/utils.py\u001b[0m in \u001b[0;36mload_from_file\u001b[0;34m(file_name)\u001b[0m\n\u001b[1;32m     55\u001b[0m \u001b[0;32mdef\u001b[0m \u001b[0mload_from_file\u001b[0m\u001b[0;34m(\u001b[0m\u001b[0mfile_name\u001b[0m\u001b[0;34m)\u001b[0m\u001b[0;34m:\u001b[0m\u001b[0;34m\u001b[0m\u001b[0m\n\u001b[1;32m     56\u001b[0m     \u001b[0;32mwith\u001b[0m \u001b[0mopen\u001b[0m\u001b[0;34m(\u001b[0m\u001b[0mfile_name\u001b[0m\u001b[0;34m,\u001b[0m \u001b[0;34m\"rb\"\u001b[0m\u001b[0;34m)\u001b[0m \u001b[0;32mas\u001b[0m \u001b[0mfd\u001b[0m\u001b[0;34m:\u001b[0m\u001b[0;34m\u001b[0m\u001b[0m\n\u001b[0;32m---> 57\u001b[0;31m         \u001b[0;32mreturn\u001b[0m \u001b[0mpickle\u001b[0m\u001b[0;34m.\u001b[0m\u001b[0mload\u001b[0m\u001b[0;34m(\u001b[0m\u001b[0mfd\u001b[0m\u001b[0;34m)\u001b[0m\u001b[0;34m\u001b[0m\u001b[0m\n\u001b[0m\u001b[1;32m     58\u001b[0m \u001b[0;34m\u001b[0m\u001b[0m\n\u001b[1;32m     59\u001b[0m \u001b[0;34m\u001b[0m\u001b[0m\n",
      "\u001b[0;31mImportError\u001b[0m: No module named 'pandas.indexes'"
     ]
    }
   ],
   "source": [
    "df_bm25_unigram_scores = utils.load_from_file(\"pkls/df_bm25_unigram_scores.pkl\")\n",
    "df_bm25_unigram_scores_smooth = utils.load_from_file(\"pkls/df_bm25_unigram_scores_smooth.pkl\")\n",
    "df_bm25_bigram_scores = utils.load_from_file(\"pkls/df_bm25_bigram_scores.pkl\")\n",
    "df_bm25_bigram_scores_smooth = utils.load_from_file(\"pkls/df_bm25_bigram_scores_smooth.pkl\")\n",
    "#df_bm25_trigram_scores = utils.load_from_file(\"pkls/df_bm25_trigram_scores.pkl\")\n",
    "#df_bm25_trigram_scores_smooth = utils.load_from_file(\"pkls/df_bm25_trigram_scores_smooth.pkl\")\n",
    "df_coverage_scores = utils.load_from_file(\"pkls/df_coverage_scores.pkl\")"
   ]
  },
  {
   "cell_type": "code",
   "execution_count": null,
   "metadata": {
    "collapsed": true
   },
   "outputs": [],
   "source": [
    "test_data = df_bm25_unigram_scores\n",
    "for another_data in [ df_bm25_unigram_scores_smooth,\n",
    "                      df_bm25_bigram_scores,\n",
    "                      df_bm25_bigram_scores_smooth,\n",
    "                      df_bm25_trigram_scores,\n",
    "                      df_bm25_trigram_scores_smooth,\n",
    "                      df_coverage_scores]:\n",
    "    for column in another_data.columns:\n",
    "        if column=='query_id' or column=='doc_id':\n",
    "            continue\n",
    "        test_data[column] = another_data[column]"
   ]
  },
  {
   "cell_type": "code",
   "execution_count": null,
   "metadata": {
    "collapsed": true
   },
   "outputs": [],
   "source": [
    "df_train_bm25_unigram_scores = utils.load_from_file(\"pkls/df_train_bm25_unigram_scores.pkl\")\n",
    "df_train_bm25_unigram_scores_smooth = utils.load_from_file(\"pkls/df_train_bm25_unigram_scores_smooth.pkl\")\n",
    "df_train_bm25_bigram_scores = utils.load_from_file(\"pkls/df_train_bm25_bigram_scores.pkl\")\n",
    "df_train_bm25_bigram_scores_smooth = utils.load_from_file(\"pkls/df_train_bm25_bigram_scores_smooth.pkl\")\n",
    "df_train_bm25_trigram_scores = utils.load_from_file(\"pkls/df_train_bm25_trigram_scores.pkl\")\n",
    "df_train_bm25_trigram_scores_smooth = utils.load_from_file(\"pkls/df_train_bm25_trigram_scores_smooth.pkl\")\n",
    "df_train_coverage_scores = utils.load_from_file(\"pkls/df_train_coverage_scores.pkl\")"
   ]
  },
  {
   "cell_type": "code",
   "execution_count": null,
   "metadata": {
    "collapsed": true
   },
   "outputs": [],
   "source": [
    "train_data = df_train_bm25_unigram_scores\n",
    "for another_data in [ df_train_bm25_unigram_scores_smooth,\n",
    "                      df_train_bm25_bigram_scores,\n",
    "                      df_train_bm25_bigram_scores_smooth,\n",
    "                      df_train_bm25_trigram_scores,\n",
    "                      df_train_bm25_trigram_scores_smooth,\n",
    "                      df_train_coverage_scores]:\n",
    "    for column in another_data.columns:\n",
    "        if column=='query_id' or column=='doc_id':\n",
    "            continue\n",
    "        train_data[column] = another_data[column]"
   ]
  },
  {
   "cell_type": "code",
   "execution_count": null,
   "metadata": {
    "collapsed": false
   },
   "outputs": [],
   "source": [
    "test_data.columns"
   ]
  },
  {
   "cell_type": "code",
   "execution_count": null,
   "metadata": {
    "collapsed": true
   },
   "outputs": [],
   "source": [
    "queries = utils.load_queries('data/queries_tr.tsv')\n",
    "test_queries = utils.load_test('data/test.tsv')\n",
    "train_queries = utils.load_train('data/clicks.train.tsv')"
   ]
  },
  {
   "cell_type": "code",
   "execution_count": null,
   "metadata": {
    "collapsed": true
   },
   "outputs": [],
   "source": [
    "train_data['target'] = 0\n",
    "test_data['target'] = 0"
   ]
  },
  {
   "cell_type": "code",
   "execution_count": null,
   "metadata": {
    "collapsed": true
   },
   "outputs": [],
   "source": [
    "clicked_pairs = set()\n",
    "for query_id, docs, clicks in train_queries:\n",
    "    clicks_set = set(clicks)\n",
    "    for doc_id in docs:\n",
    "        if doc_id in clicks:\n",
    "            #train_data.target[(train_data.query_id==query_id) & (train_data.doc_id==doc_id)] = 1\n",
    "            clicked_pairs.add((query_id, doc_id))"
   ]
  },
  {
   "cell_type": "code",
   "execution_count": null,
   "metadata": {
    "collapsed": true
   },
   "outputs": [],
   "source": [
    "train_data.target = train_data.apply(lambda x: (x['query_id'], x['doc_id']) in clicked_pairs, axis=1)"
   ]
  },
  {
   "cell_type": "code",
   "execution_count": null,
   "metadata": {
    "collapsed": true
   },
   "outputs": [],
   "source": [
    "feature_columns = ['score_title_bm25', 'score_body_bm25',\n",
    "       'score_title_bm25_smooth', 'score_body_bm25_smooth',\n",
    "       'score_title_bm25_bigram', 'score_body_bm25_bigram',\n",
    "       'score_title_bm25_bigram_smooth', 'score_body_bm25_bigram_smooth',\n",
    "       'score_title_bm25_trigram', 'score_body_bm25_trigram',\n",
    "       'score_title_bm25_trigram_smooth', 'score_body_bm25_trigram_smooth',\n",
    "       'title_count', 'body_count', 'whole_count', 'title_ratio', 'body_ratio',\n",
    "       'whole_ratio']"
   ]
  },
  {
   "cell_type": "code",
   "execution_count": null,
   "metadata": {
    "collapsed": true
   },
   "outputs": [],
   "source": [
    "feature_columns = ['score_title_bm25', 'score_body_bm25', 'score_whole_bm25', \n",
    "       #'score_title_bm25_smooth', 'score_body_bm25_smooth',\n",
    "       #'score_title_bm25_bigram', 'score_body_bm25_bigram',\n",
    "       #'score_title_bm25_bigram_smooth', 'score_body_bm25_bigram_smooth',\n",
    "       #'score_title_bm25_trigram', 'score_body_bm25_trigram',\n",
    "       #'score_title_bm25_trigram_smooth', 'score_body_bm25_trigram_smooth',\n",
    "       'title_count', 'body_count', 'whole_count', 'title_ratio', 'body_ratio',\n",
    "       'whole_ratio']"
   ]
  },
  {
   "cell_type": "code",
   "execution_count": null,
   "metadata": {
    "collapsed": true
   },
   "outputs": [],
   "source": [
    "dtrain = xgb.DMatrix(train_data[feature_columns], label=train_data.target)\n",
    "train_groups = [len(docs) for query_id,docs,clicks in train_queries]\n",
    "dtrain.set_group(train_groups)"
   ]
  },
  {
   "cell_type": "code",
   "execution_count": null,
   "metadata": {
    "collapsed": true
   },
   "outputs": [],
   "source": [
    "dtest = xgb.DMatrix(test_data[feature_columns], label=test_data.target)\n",
    "test_groups = [len(docs) for query_id,docs in test_queries]\n",
    "dtest.set_group(test_groups)"
   ]
  },
  {
   "cell_type": "code",
   "execution_count": null,
   "metadata": {
    "collapsed": true
   },
   "outputs": [],
   "source": [
    "param = {'max_depth':5, 'eta':1, 'silent':1, 'objective':'rank:pairwise',\n",
    "         'eval_metric': ['ndcg@5']}"
   ]
  },
  {
   "cell_type": "code",
   "execution_count": null,
   "metadata": {
    "collapsed": true
   },
   "outputs": [],
   "source": [
    "watchlist  = [(dtest,'eval'), (dtrain,'train')]"
   ]
  },
  {
   "cell_type": "code",
   "execution_count": null,
   "metadata": {
    "collapsed": true
   },
   "outputs": [],
   "source": [
    "num_round = 500"
   ]
  },
  {
   "cell_type": "code",
   "execution_count": null,
   "metadata": {
    "collapsed": false
   },
   "outputs": [],
   "source": [
    "model = xgb.train(param, dtrain, num_round, watchlist)"
   ]
  },
  {
   "cell_type": "code",
   "execution_count": null,
   "metadata": {
    "collapsed": true
   },
   "outputs": [],
   "source": [
    "predictions = model.predict(dtest)"
   ]
  },
  {
   "cell_type": "code",
   "execution_count": null,
   "metadata": {
    "collapsed": false
   },
   "outputs": [],
   "source": [
    "predictions[0:50]"
   ]
  },
  {
   "cell_type": "code",
   "execution_count": null,
   "metadata": {
    "collapsed": true
   },
   "outputs": [],
   "source": [
    "i = 0\n",
    "query_predictions = {}\n",
    "for query_id, docs in test_queries:\n",
    "    query_predictions[query_id] = np.array(predictions[i:i+len(docs)])\n",
    "    i+=len(docs)"
   ]
  },
  {
   "cell_type": "code",
   "execution_count": null,
   "metadata": {
    "collapsed": true
   },
   "outputs": [],
   "source": [
    "result = []\n",
    "for query_id, docs in test_queries:\n",
    "    top_docs = np.array(docs)[np.flip(np.argsort(query_predictions[query_id]),0)[0:5]]\n",
    "    for doc_id in top_docs:\n",
    "        result.append((query_id, doc_id))"
   ]
  },
  {
   "cell_type": "code",
   "execution_count": null,
   "metadata": {
    "collapsed": true
   },
   "outputs": [],
   "source": [
    "df = pd.DataFrame(result, columns=['QueryId','DocID'])"
   ]
  },
  {
   "cell_type": "code",
   "execution_count": null,
   "metadata": {
    "collapsed": true
   },
   "outputs": [],
   "source": [
    "df.to_csv('submit.csv', index=False)"
   ]
  },
  {
   "cell_type": "code",
   "execution_count": null,
   "metadata": {
    "collapsed": true
   },
   "outputs": [],
   "source": [
    "#### Use only bm25 unigrams"
   ]
  },
  {
   "cell_type": "code",
   "execution_count": null,
   "metadata": {
    "collapsed": false
   },
   "outputs": [],
   "source": [
    "test_data.head(50)"
   ]
  },
  {
   "cell_type": "code",
   "execution_count": null,
   "metadata": {
    "collapsed": false
   },
   "outputs": [],
   "source": [
    "new_data = test_data[['query_id', 'doc_id']].copy()\n",
    "new_data.doc_id = new_data.doc_id.astype(int)"
   ]
  },
  {
   "cell_type": "code",
   "execution_count": null,
   "metadata": {
    "collapsed": false
   },
   "outputs": [],
   "source": [
    "new_data['score_final'] = test_data.score_title_bm25 + test_data.score_body_bm25 #+ test_data.score_whole_bm25"
   ]
  },
  {
   "cell_type": "code",
   "execution_count": null,
   "metadata": {
    "collapsed": false
   },
   "outputs": [],
   "source": [
    "query_scores = defaultdict(list)\n",
    "for record in new_data.iterrows():\n",
    "    query_scores[record[1]['query_id']].append((int(record[1]['doc_id']), record[1]['score_final']))"
   ]
  },
  {
   "cell_type": "code",
   "execution_count": null,
   "metadata": {
    "collapsed": false
   },
   "outputs": [],
   "source": [
    "result = []\n",
    "for query_id, docs in test_queries:\n",
    "    docs, query_predictions = zip(*query_scores[query_id])\n",
    "    top_docs = np.array(docs)[np.argsort(query_predictions)][::-1][0:5]\n",
    "    for doc_id in top_docs:\n",
    "        result.append((query_id, doc_id))"
   ]
  },
  {
   "cell_type": "code",
   "execution_count": null,
   "metadata": {
    "collapsed": false
   },
   "outputs": [],
   "source": [
    "df = pd.DataFrame(result, columns=['QueryId','DocID'])"
   ]
  },
  {
   "cell_type": "code",
   "execution_count": null,
   "metadata": {
    "collapsed": false
   },
   "outputs": [],
   "source": [
    "df.head()"
   ]
  },
  {
   "cell_type": "code",
   "execution_count": null,
   "metadata": {
    "collapsed": true
   },
   "outputs": [],
   "source": [
    "df.to_csv('submit4.csv', index=False)"
   ]
  },
  {
   "cell_type": "code",
   "execution_count": null,
   "metadata": {
    "collapsed": true
   },
   "outputs": [],
   "source": []
  }
 ],
 "metadata": {
  "anaconda-cloud": {},
  "kernelspec": {
   "display_name": "Python [conda env:work]",
   "language": "python",
   "name": "conda-env-work-py"
  },
  "language_info": {
   "codemirror_mode": {
    "name": "ipython",
    "version": 3
   },
   "file_extension": ".py",
   "mimetype": "text/x-python",
   "name": "python",
   "nbconvert_exporter": "python",
   "pygments_lexer": "ipython3",
   "version": "3.5.2"
  }
 },
 "nbformat": 4,
 "nbformat_minor": 2
}
