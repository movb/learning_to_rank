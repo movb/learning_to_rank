{
 "cells": [
  {
   "cell_type": "code",
   "execution_count": 2,
   "metadata": {
    "collapsed": true
   },
   "outputs": [],
   "source": [
    "import numpy as np\n",
    "import pandas as pd\n",
    "import utils"
   ]
  },
  {
   "cell_type": "code",
   "execution_count": null,
   "metadata": {
    "collapsed": true
   },
   "outputs": [],
   "source": [
    "import importlib\n",
    "utils = "
   ]
  },
  {
   "cell_type": "code",
   "execution_count": 4,
   "metadata": {
    "collapsed": true
   },
   "outputs": [],
   "source": [
    "fd = open('data/docs.tsv', \"rt\")\n",
    "index = utils.load_from_file(\"index.pkl\")"
   ]
  },
  {
   "cell_type": "code",
   "execution_count": 19,
   "metadata": {
    "collapsed": true
   },
   "outputs": [],
   "source": [
    "queries = utils.load_queries('data/queries_tr.tsv')\n",
    "test_data = utils.load_test('data/test.tsv')\n",
    "train_data = utils.load_train('data/clicks.train.tsv')"
   ]
  },
  {
   "cell_type": "code",
   "execution_count": 10,
   "metadata": {
    "collapsed": true
   },
   "outputs": [],
   "source": [
    "def coverage(query, doc_id):\n",
    "    def calc(query_terms, doc_terms):\n",
    "        return len(query_terms.intersection(doc_terms))\n",
    "    title, body = utils.get_document(fd, index, doc_id)\n",
    "    \n",
    "    query_terms = set(query.strip().split(' '))\n",
    "    title_terms = set(title.strip().split(' '))\n",
    "    body_terms = set(body.strip().split(' '))\n",
    "    whole_terms = title_terms.union(body_terms)\n",
    "    \n",
    "    title_count = calc(query_terms, title_terms)\n",
    "    body_count = calc(query_terms, body_terms)\n",
    "    whole_count = calc(query_terms, title_terms)\n",
    "    \n",
    "    title_ratio = title_count / len(query_terms)\n",
    "    body_ratio  = body_count  / len(query_terms)\n",
    "    whole_ratio = whole_count / len(query_terms)\n",
    "    \n",
    "    return title_count, body_count, whole_count, title_ratio, body_ratio, whole_ratio"
   ]
  },
  {
   "cell_type": "code",
   "execution_count": 11,
   "metadata": {
    "collapsed": true
   },
   "outputs": [],
   "source": [
    "results = []\n",
    "for query_id, docs in test_data:\n",
    "    query = queries[query_id]\n",
    "    for doc_id in docs:\n",
    "        title_count, body_count, whole_count, title_ratio, body_ratio, whole_ratio = coverage(query, doc_id)\n",
    "        results.append((query_id, doc_id, title_count, body_count, whole_count, title_ratio, body_ratio, whole_ratio))"
   ]
  },
  {
   "cell_type": "code",
   "execution_count": 12,
   "metadata": {
    "collapsed": true
   },
   "outputs": [],
   "source": [
    "df = pd.DataFrame(results, columns=['query_id', 'doc_id', 'title_count', 'body_count', 'whole_count',\n",
    "                                    'title_ratio', 'body_ratio', 'whole_ratio'])"
   ]
  },
  {
   "cell_type": "code",
   "execution_count": 13,
   "metadata": {
    "collapsed": true
   },
   "outputs": [],
   "source": [
    "utils.save_to_file(df, \"df_coverage_scores.pkl\")"
   ]
  },
  {
   "cell_type": "code",
   "execution_count": 20,
   "metadata": {
    "collapsed": true
   },
   "outputs": [],
   "source": [
    "results = []\n",
    "for query_id, docs, clicks in train_data:\n",
    "    query = queries[query_id]\n",
    "    for doc_id in docs:\n",
    "        title_count, body_count, whole_count, title_ratio, body_ratio, whole_ratio = coverage(query, doc_id)\n",
    "        results.append((query_id, doc_id, title_count, body_count, whole_count, title_ratio, body_ratio, whole_ratio))"
   ]
  },
  {
   "cell_type": "code",
   "execution_count": 21,
   "metadata": {
    "collapsed": true
   },
   "outputs": [],
   "source": [
    "df = pd.DataFrame(results, columns=['query_id', 'doc_id', 'title_count', 'body_count', 'whole_count',\n",
    "                                    'title_ratio', 'body_ratio', 'whole_ratio'])"
   ]
  },
  {
   "cell_type": "code",
   "execution_count": 22,
   "metadata": {
    "collapsed": true
   },
   "outputs": [],
   "source": [
    "utils.save_to_file(df, \"df_train_coverage_scores.pkl\")"
   ]
  },
  {
   "cell_type": "code",
   "execution_count": null,
   "metadata": {
    "collapsed": true
   },
   "outputs": [],
   "source": []
  }
 ],
 "metadata": {
  "kernelspec": {
   "display_name": "Python 3",
   "language": "python",
   "name": "python3"
  },
  "language_info": {
   "codemirror_mode": {
    "name": "ipython",
    "version": 3
   },
   "file_extension": ".py",
   "mimetype": "text/x-python",
   "name": "python",
   "nbconvert_exporter": "python",
   "pygments_lexer": "ipython3",
   "version": "3.6.1"
  }
 },
 "nbformat": 4,
 "nbformat_minor": 2
}
