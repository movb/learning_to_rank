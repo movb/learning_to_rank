{
 "cells": [
  {
   "cell_type": "code",
   "execution_count": 1,
   "metadata": {
    "collapsed": true
   },
   "outputs": [],
   "source": [
    "import pandas as pd\n",
    "import numpy as np\n",
    "#import pymorphy2\n",
    "#from collections import Counter, defaultdict\n",
    "import utils\n",
    "import sys\n",
    "from bm25 import BM25\n",
    "\n",
    "%load_ext autoreload\n",
    "%autoreload 2"
   ]
  },
  {
   "cell_type": "code",
   "execution_count": 17,
   "metadata": {
    "collapsed": true
   },
   "outputs": [],
   "source": [
    "queries = utils.load_queries('data/queries_tr.tsv')\n",
    "test_data = utils.load_test('data/test.tsv')\n",
    "train_data = utils.load_train('data/clicks.train.tsv')"
   ]
  },
  {
   "cell_type": "code",
   "execution_count": 3,
   "metadata": {
    "collapsed": true
   },
   "outputs": [],
   "source": [
    "bigrams = set()\n",
    "for query in queries.values():\n",
    "    terms = query.strip().split(' ')\n",
    "    for i in range(0,len(terms)-1):\n",
    "        bigrams.add(terms[i]+' '+terms[i+1])"
   ]
  },
  {
   "cell_type": "code",
   "execution_count": 4,
   "metadata": {
    "collapsed": true
   },
   "outputs": [],
   "source": [
    "fd = open('data/docs.tsv', \"rt\")\n",
    "index = utils.load_from_file(\"index.pkl\")"
   ]
  },
  {
   "cell_type": "code",
   "execution_count": 5,
   "metadata": {
    "collapsed": true
   },
   "outputs": [],
   "source": [
    "bm25_model_bigrams = BM25('data/docs.tsv', norm_method = 'word_bigrams', debug=1)"
   ]
  },
  {
   "cell_type": "code",
   "execution_count": 6,
   "metadata": {
    "collapsed": true
   },
   "outputs": [],
   "source": [
    "bm25_model_bigrams.bigram_filter = bigrams"
   ]
  },
  {
   "cell_type": "code",
   "execution_count": 7,
   "metadata": {},
   "outputs": [
    {
     "name": "stderr",
     "output_type": "stream",
     "text": [
      "Processed documents 394300"
     ]
    }
   ],
   "source": [
    "bm25_model_bigrams.build()"
   ]
  },
  {
   "cell_type": "code",
   "execution_count": 8,
   "metadata": {
    "collapsed": true
   },
   "outputs": [],
   "source": [
    "utils.save_to_file(bm25_model_bigrams, \"bm25_bigrams.pkl\")"
   ]
  },
  {
   "cell_type": "code",
   "execution_count": 9,
   "metadata": {
    "collapsed": true
   },
   "outputs": [],
   "source": [
    "def score(query, doc_id, smooth_idf=False):\n",
    "    title, body = utils.get_document(fd, index, doc_id)\n",
    "    return bm25_model_bigrams.score_bm25(query, title, body, smooth_idf=smooth_idf)"
   ]
  },
  {
   "cell_type": "code",
   "execution_count": 10,
   "metadata": {
    "collapsed": true
   },
   "outputs": [],
   "source": [
    "results = []\n",
    "for query_id, docs in test_data:\n",
    "    query = queries[query_id]\n",
    "    for doc_id in docs:\n",
    "        title_score, body_score = score(query, doc_id)\n",
    "        results.append((query_id, doc_id, title_score, body_score))"
   ]
  },
  {
   "cell_type": "code",
   "execution_count": 11,
   "metadata": {
    "collapsed": true
   },
   "outputs": [],
   "source": [
    "df = pd.DataFrame(results, columns=['query_id', 'doc_id', 'score_title_bm25_bigram', 'score_body_bm25_bigram'])"
   ]
  },
  {
   "cell_type": "code",
   "execution_count": 12,
   "metadata": {
    "collapsed": true
   },
   "outputs": [],
   "source": [
    "utils.save_to_file(df, \"df_bm25_bigram_scores.pkl\")"
   ]
  },
  {
   "cell_type": "code",
   "execution_count": 13,
   "metadata": {
    "collapsed": true
   },
   "outputs": [],
   "source": [
    "results_smooth = []\n",
    "for query_id, docs in test_data:\n",
    "    query = queries[query_id]\n",
    "    for doc_id in docs:\n",
    "        title_score, body_score = score(query, doc_id, smooth_idf=True)\n",
    "        results_smooth.append((query_id, doc_id, title_score, body_score))"
   ]
  },
  {
   "cell_type": "code",
   "execution_count": 14,
   "metadata": {
    "collapsed": true
   },
   "outputs": [],
   "source": [
    "df = pd.DataFrame(results_smooth, columns=['query_id', 'doc_id', 'score_title_bm25_bigram_smooth', 'score_body_bm25_bigram_smooth'])"
   ]
  },
  {
   "cell_type": "code",
   "execution_count": 15,
   "metadata": {
    "collapsed": true
   },
   "outputs": [],
   "source": [
    "utils.save_to_file(df, \"df_bm25_bigram_scores_smooth.pkl\")"
   ]
  },
  {
   "cell_type": "markdown",
   "metadata": {
    "collapsed": true
   },
   "source": [
    "## Train data"
   ]
  },
  {
   "cell_type": "code",
   "execution_count": null,
   "metadata": {},
   "outputs": [],
   "source": [
    "results = []\n",
    "for query_id, docs, clicks in train_data:\n",
    "    query = queries[query_id]\n",
    "    for doc_id in docs:\n",
    "        title_score, body_score = score(query, doc_id)\n",
    "        results.append((query_id, doc_id, title_score, body_score))"
   ]
  },
  {
   "cell_type": "code",
   "execution_count": null,
   "metadata": {
    "collapsed": true
   },
   "outputs": [],
   "source": [
    "df = pd.DataFrame(results, columns=['query_id', 'doc_id', 'score_title_bm25_bigram', 'score_body_bm25_bigram'])"
   ]
  },
  {
   "cell_type": "code",
   "execution_count": null,
   "metadata": {
    "collapsed": true
   },
   "outputs": [],
   "source": [
    "utils.save_to_file(df, \"df_train_bm25_bigram_scores.pkl\")"
   ]
  },
  {
   "cell_type": "code",
   "execution_count": null,
   "metadata": {
    "collapsed": true
   },
   "outputs": [],
   "source": [
    "results_smooth = []\n",
    "for query_id, docs, clicks in train_data:\n",
    "    query = queries[query_id]\n",
    "    for doc_id in docs:\n",
    "        title_score, body_score = score(query, doc_id, smooth_idf=True)\n",
    "        results_smooth.append((query_id, doc_id, title_score, body_score))"
   ]
  },
  {
   "cell_type": "code",
   "execution_count": null,
   "metadata": {
    "collapsed": true
   },
   "outputs": [],
   "source": [
    "df = pd.DataFrame(results_smooth, columns=['query_id', 'doc_id', 'score_title_bm25_bigram_smooth', 'score_body_bm25_bigram_smooth'])"
   ]
  },
  {
   "cell_type": "code",
   "execution_count": null,
   "metadata": {
    "collapsed": true
   },
   "outputs": [],
   "source": [
    "utils.save_to_file(df, \"df_train_bm25_bigram_scores_smooth.pkl\")"
   ]
  },
  {
   "cell_type": "code",
   "execution_count": null,
   "metadata": {
    "collapsed": true
   },
   "outputs": [],
   "source": []
  }
 ],
 "metadata": {
  "kernelspec": {
   "display_name": "Python 3",
   "language": "python",
   "name": "python3"
  },
  "language_info": {
   "codemirror_mode": {
    "name": "ipython",
    "version": 3
   },
   "file_extension": ".py",
   "mimetype": "text/x-python",
   "name": "python",
   "nbconvert_exporter": "python",
   "pygments_lexer": "ipython3",
   "version": "3.6.1"
  }
 },
 "nbformat": 4,
 "nbformat_minor": 2
}
