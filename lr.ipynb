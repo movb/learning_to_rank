{
 "cells": [
  {
   "cell_type": "code",
   "execution_count": 1,
   "metadata": {
    "collapsed": true
   },
   "outputs": [],
   "source": [
    "import pandas as pd\n",
    "import numpy as np\n",
    "#import pymorphy2\n",
    "from collections import Counter, defaultdict\n",
    "import utils\n",
    "import sys\n",
    "from index import Index\n",
    "import index\n",
    "import score\n",
    "from multiprocessing import Pool\n",
    "from itertools import repeat"
   ]
  },
  {
   "cell_type": "code",
   "execution_count": 2,
   "metadata": {
    "collapsed": true
   },
   "outputs": [],
   "source": [
    "from importlib import reload\n",
    "#index = reload(index)\n",
    "#Index = index.Index\n",
    "score = reload(score)"
   ]
  },
  {
   "cell_type": "code",
   "execution_count": 3,
   "metadata": {
    "collapsed": true
   },
   "outputs": [],
   "source": [
    "index_full = Index('data/docs.tsv', norm_method = 'none', debug=1)"
   ]
  },
  {
   "cell_type": "code",
   "execution_count": 8,
   "metadata": {
    "collapsed": true
   },
   "outputs": [],
   "source": [
    "index_full = utils.load_from_file('pkls/bm25_unigram.pkl')\n",
    "#index_full = utils.copy_model(index_full, Index)"
   ]
  },
  {
   "cell_type": "code",
   "execution_count": null,
   "metadata": {
    "collapsed": true
   },
   "outputs": [],
   "source": [
    "#index_full.build()"
   ]
  },
  {
   "cell_type": "code",
   "execution_count": 12,
   "metadata": {
    "collapsed": true
   },
   "outputs": [],
   "source": [
    "#utils.save_to_file(index_full, \"pkls/bm25_unigram.pkl\")"
   ]
  },
  {
   "cell_type": "code",
   "execution_count": 9,
   "metadata": {
    "collapsed": true
   },
   "outputs": [],
   "source": [
    "queries = utils.load_queries('data/queries_ec.tsv')\n",
    "test_data = utils.load_test('data/test.tsv')\n",
    "train_data = utils.load_train('data/clicks.train.tsv')"
   ]
  },
  {
   "cell_type": "code",
   "execution_count": 13,
   "metadata": {
    "collapsed": true
   },
   "outputs": [],
   "source": [
    "def score_internal(data, ind, docs_file_name, index_file_name):\n",
    "        def score_qd(doc_wrap, query, doc_id):\n",
    "            title, body = doc_wrap.get(doc_id)\n",
    "            return score.score_bm25(ind, query, title, body)\n",
    "    \n",
    "        doc_wrap = utils.DocWrap(docs_file_name, index_file_name)\n",
    "        results = []\n",
    "        for query_id, docs in data:\n",
    "            query = queries[query_id]\n",
    "            for doc_id in docs:\n",
    "                title_score, body_score, whole_score = score_qd(doc_wrap, query, doc_id)\n",
    "                results.append((query_id, doc_id, title_score, body_score, whole_score))\n",
    "        print(\"Processed {} query, doc pairs\".format(len(data)))\n",
    "        return pd.DataFrame(results,columns=['query_id', 'doc_id', 'score_title', 'score_body', 'score_whole'])\n",
    "\n",
    "def score_documents(ind, queries, test_data, train_data, docs_file_name, index_file_name, idf_smooth=0.5):    \n",
    "    def chunks(data, num_chunks=24):\n",
    "        n = len(data)//num_chunks + 1\n",
    "        return [data[i:i+n] for i in range(0, len(data), n)]\n",
    "    \n",
    "    print(\"Calc idfs\")\n",
    "    ind.calc_idfs(idf_smooth)\n",
    "    \n",
    "    print(\"Processing train, {} pairs\".format(len(train_data)))\n",
    "    tr_data = [(x,y) for x,y,_ in train_data]\n",
    "    pool = Pool()\n",
    "    temp = pool.starmap(score_internal, zip(chunks(tr_data),\n",
    "                                              repeat(ind),\n",
    "                                              repeat(docs_file_name),\n",
    "                                              repeat(index_file_name)))\n",
    "    train_results = pd.concat(temp, ignore_index=True)\n",
    "    \n",
    "    print(\"Processing test, {} pairs\".format(len(test_data)))\n",
    "    temp = pool.starmap(score_internal, zip(chunks(test_data),\n",
    "                                              repeat(ind),\n",
    "                                              repeat(docs_file_name),\n",
    "                                              repeat(index_file_name)))\n",
    "    test_results = pd.concat(temp, ignore_index=True)\n",
    "    \n",
    "    pool.close()\n",
    "    pool.join()\n",
    "    pool.terminate()\n",
    "    \n",
    "    return train_results, test_results"
   ]
  },
  {
   "cell_type": "code",
   "execution_count": 11,
   "metadata": {
    "collapsed": true
   },
   "outputs": [],
   "source": [
    "def save_pkls(train_results, test_results, columns, file_name):\n",
    "    train_results.columns = columns\n",
    "    test_results.columns = columns\n",
    "    utils.save_to_file(train_results, file_name.format('train'))\n",
    "    utils.save_to_file(test_results, file_name.format('test'))"
   ]
  },
  {
   "cell_type": "code",
   "execution_count": 12,
   "metadata": {},
   "outputs": [
    {
     "name": "stdout",
     "output_type": "stream",
     "text": [
      "Calc idfs\n",
      "Processing train, 3309 pairs\n",
      "Processed 138 query, doc pairs\n",
      "Processed 138 query, doc pairs\n",
      "Processed 138 query, doc pairs\n",
      "Processed 138 query, doc pairs\n",
      "Processed 138 query, doc pairs\n",
      "Processed 138 query, doc pairs\n",
      "Processed 138 query, doc pairs\n",
      "Processed 138 query, doc pairs\n",
      "Processed 138 query, doc pairs\n",
      "Processed 138 query, doc pairs\n",
      "Processed 138 query, doc pairs\n",
      "Processed 138 query, doc pairs\n",
      "Processed 138 query, doc pairs\n",
      "Processed 138 query, doc pairs\n",
      "Processed 138 query, doc pairs\n",
      "Processed 138 query, doc pairs\n",
      "Processed 138 query, doc pairs\n",
      "Processed 138 query, doc pairs\n",
      "Processed 138 query, doc pairs\n",
      "Processed 138 query, doc pairs\n",
      "Processed 138 query, doc pairs\n",
      "Processed 135 query, doc pairs\n",
      "Processed 138 query, doc pairs\n",
      "Processed 138 query, doc pairs\n",
      "Processing test, 816 pairs\n",
      "Processed 35 query, doc pairs\n",
      "Processed 35 query, doc pairs\n",
      "Processed 35 query, doc pairs\n",
      "Processed 35 query, doc pairs\n",
      "Processed 35 query, doc pairs\n",
      "Processed 35 query, doc pairs\n",
      "Processed 35 query, doc pairs\n",
      "Processed 35 query, doc pairs\n",
      "Processed 35 query, doc pairs\n",
      "Processed 35 query, doc pairs\n",
      "Processed 35 query, doc pairs\n",
      "Processed 35 query, doc pairs\n",
      "Processed 35 query, doc pairs\n",
      "Processed 35 query, doc pairs\n",
      "Processed 35 query, doc pairs\n",
      "Processed 35 query, doc pairs\n",
      "Processed 35 query, doc pairs\n",
      "Processed 35 query, doc pairs\n",
      "Processed 35 query, doc pairs\n",
      "Processed 35 query, doc pairs\n",
      "Processed 35 query, doc pairs\n",
      "Processed 35 query, doc pairs\n",
      "Processed 11 query, doc pairs\n",
      "Processed 35 query, doc pairs\n"
     ]
    }
   ],
   "source": [
    "train_results, test_results = score_documents(index_full,\n",
    "                                              queries,\n",
    "                                              test_data,\n",
    "                                              train_data,\n",
    "                                              'data/docs.tsv',\n",
    "                                              'pkls/index.pkl',\n",
    "                                              idf_smooth=0.5)"
   ]
  },
  {
   "cell_type": "code",
   "execution_count": 17,
   "metadata": {},
   "outputs": [],
   "source": [
    "columns=['query_id', 'doc_id', 'score_title_bm25_smooth', 'score_body_bm25_smooth', 'score_whole_bm25_smooth']\n",
    "save_pkls(train_results, test_results, columns, \"pkls/df_bm25_unigram_scores_smooth_{}.pkl\")"
   ]
  },
  {
   "cell_type": "markdown",
   "metadata": {},
   "source": [
    "### Нормированные тексты"
   ]
  },
  {
   "cell_type": "code",
   "execution_count": 18,
   "metadata": {
    "collapsed": true
   },
   "outputs": [],
   "source": [
    "index_full = utils.load_from_file('pkls/bm25_unigram_norm.pkl')\n",
    "#index_full = utils.copy_model(index_full, Index)"
   ]
  },
  {
   "cell_type": "code",
   "execution_count": 21,
   "metadata": {
    "collapsed": true
   },
   "outputs": [],
   "source": [
    "#utils.save_to_file(index_full, \"pkls/bm25_unigram_norm.pkl\")"
   ]
  },
  {
   "cell_type": "code",
   "execution_count": 20,
   "metadata": {
    "collapsed": true
   },
   "outputs": [],
   "source": [
    "queries = utils.load_queries('data/queries_norm.tsv')"
   ]
  },
  {
   "cell_type": "code",
   "execution_count": 22,
   "metadata": {},
   "outputs": [
    {
     "name": "stdout",
     "output_type": "stream",
     "text": [
      "Calc idfs\n",
      "Processing train, 3309 pairs\n",
      "Processed 138 query, doc pairs\n",
      "Processed 138 query, doc pairs\n",
      "Processed 138 query, doc pairs\n",
      "Processed 138 query, doc pairs\n",
      "Processed 138 query, doc pairs\n",
      "Processed 138 query, doc pairs\n",
      "Processed 138 query, doc pairs\n",
      "Processed 138 query, doc pairs\n",
      "Processed 138 query, doc pairs\n",
      "Processed 138 query, doc pairs\n",
      "Processed 138 query, doc pairs\n",
      "Processed 138 query, doc pairs\n",
      "Processed 138 query, doc pairs\n",
      "Processed 138 query, doc pairs\n",
      "Processed 138 query, doc pairs\n",
      "Processed 138 query, doc pairs\n",
      "Processed 138 query, doc pairs\n",
      "Processed 138 query, doc pairs\n",
      "Processed 138 query, doc pairs\n",
      "Processed 138 query, doc pairs\n",
      "Processed 135 query, doc pairs\n",
      "Processed 138 query, doc pairs\n",
      "Processed 138 query, doc pairs\n",
      "Processed 138 query, doc pairs\n",
      "Processing test, 816 pairs\n",
      "Processed 35 query, doc pairs\n",
      "Processed 35 query, doc pairs\n",
      "Processed 35 query, doc pairs\n",
      "Processed 35 query, doc pairs\n",
      "Processed 35 query, doc pairs\n",
      "Processed 35 query, doc pairs\n",
      "Processed 35 query, doc pairs\n",
      "Processed 35 query, doc pairs\n",
      "Processed 35 query, doc pairs\n",
      "Processed 35 query, doc pairs\n",
      "Processed 35 query, doc pairs\n",
      "Processed 35 query, doc pairs\n",
      "Processed 35 query, doc pairs\n",
      "Processed 35 query, doc pairs\n",
      "Processed 35 query, doc pairs\n",
      "Processed 35 query, doc pairs\n",
      "Processed 35 query, doc pairs\n",
      "Processed 35 query, doc pairs\n",
      "Processed 11 query, doc pairs\n",
      "Processed 35 query, doc pairs\n",
      "Processed 35 query, doc pairs\n",
      "Processed 35 query, doc pairs\n",
      "Processed 35 query, doc pairs\n",
      "Processed 35 query, doc pairs\n"
     ]
    },
    {
     "name": "stderr",
     "output_type": "stream",
     "text": [
      "Process ForkPoolWorker-30:\n",
      "Process ForkPoolWorker-22:\n",
      "Process ForkPoolWorker-26:\n",
      "Process ForkPoolWorker-32:\n",
      "Process ForkPoolWorker-29:\n",
      "Process ForkPoolWorker-27:\n",
      "Traceback (most recent call last):\n",
      "  File \"/home/centos/tools/anaconda3/lib/python3.6/multiprocessing/process.py\", line 249, in _bootstrap\n",
      "    self.run()\n",
      "Process ForkPoolWorker-25:\n",
      "Process ForkPoolWorker-31:\n",
      "Process ForkPoolWorker-17:\n",
      "Process ForkPoolWorker-18:\n",
      "Process ForkPoolWorker-23:\n",
      "Process ForkPoolWorker-21:\n",
      "Process ForkPoolWorker-19:\n",
      "Process ForkPoolWorker-28:\n",
      "Process ForkPoolWorker-20:\n",
      "Process ForkPoolWorker-24:\n",
      "Traceback (most recent call last):\n",
      "Traceback (most recent call last):\n",
      "Traceback (most recent call last):\n",
      "Traceback (most recent call last):\n",
      "Traceback (most recent call last):\n",
      "Traceback (most recent call last):\n",
      "Traceback (most recent call last):\n",
      "  File \"/home/centos/tools/anaconda3/lib/python3.6/multiprocessing/process.py\", line 249, in _bootstrap\n",
      "    self.run()\n",
      "  File \"/home/centos/tools/anaconda3/lib/python3.6/multiprocessing/process.py\", line 93, in run\n",
      "    self._target(*self._args, **self._kwargs)\n",
      "  File \"/home/centos/tools/anaconda3/lib/python3.6/multiprocessing/process.py\", line 249, in _bootstrap\n",
      "    self.run()\n",
      "  File \"/home/centos/tools/anaconda3/lib/python3.6/multiprocessing/process.py\", line 249, in _bootstrap\n",
      "    self.run()\n",
      "  File \"/home/centos/tools/anaconda3/lib/python3.6/multiprocessing/process.py\", line 249, in _bootstrap\n",
      "    self.run()\n",
      "  File \"/home/centos/tools/anaconda3/lib/python3.6/multiprocessing/process.py\", line 249, in _bootstrap\n",
      "    self.run()\n",
      "  File \"/home/centos/tools/anaconda3/lib/python3.6/multiprocessing/process.py\", line 249, in _bootstrap\n",
      "    self.run()\n",
      "  File \"/home/centos/tools/anaconda3/lib/python3.6/multiprocessing/process.py\", line 249, in _bootstrap\n",
      "    self.run()\n",
      "  File \"/home/centos/tools/anaconda3/lib/python3.6/multiprocessing/process.py\", line 93, in run\n",
      "    self._target(*self._args, **self._kwargs)\n",
      "  File \"/home/centos/tools/anaconda3/lib/python3.6/multiprocessing/process.py\", line 93, in run\n",
      "    self._target(*self._args, **self._kwargs)\n",
      "  File \"/home/centos/tools/anaconda3/lib/python3.6/multiprocessing/process.py\", line 93, in run\n",
      "    self._target(*self._args, **self._kwargs)\n",
      "  File \"/home/centos/tools/anaconda3/lib/python3.6/multiprocessing/process.py\", line 93, in run\n",
      "    self._target(*self._args, **self._kwargs)\n",
      "  File \"/home/centos/tools/anaconda3/lib/python3.6/multiprocessing/queues.py\", line 342, in get\n",
      "    with self._rlock:\n",
      "  File \"/home/centos/tools/anaconda3/lib/python3.6/multiprocessing/process.py\", line 93, in run\n",
      "    self._target(*self._args, **self._kwargs)\n",
      "  File \"/home/centos/tools/anaconda3/lib/python3.6/multiprocessing/process.py\", line 93, in run\n",
      "    self._target(*self._args, **self._kwargs)\n",
      "  File \"/home/centos/tools/anaconda3/lib/python3.6/multiprocessing/pool.py\", line 108, in worker\n",
      "    task = get()\n",
      "  File \"/home/centos/tools/anaconda3/lib/python3.6/multiprocessing/pool.py\", line 108, in worker\n",
      "    task = get()\n",
      "  File \"/home/centos/tools/anaconda3/lib/python3.6/multiprocessing/process.py\", line 93, in run\n",
      "    self._target(*self._args, **self._kwargs)\n",
      "  File \"/home/centos/tools/anaconda3/lib/python3.6/multiprocessing/pool.py\", line 108, in worker\n",
      "    task = get()\n",
      "  File \"/home/centos/tools/anaconda3/lib/python3.6/multiprocessing/pool.py\", line 108, in worker\n",
      "    task = get()\n",
      "Traceback (most recent call last):\n",
      "Traceback (most recent call last):\n",
      "Traceback (most recent call last):\n",
      "  File \"/home/centos/tools/anaconda3/lib/python3.6/multiprocessing/pool.py\", line 108, in worker\n",
      "    task = get()\n",
      "Traceback (most recent call last):\n",
      "  File \"/home/centos/tools/anaconda3/lib/python3.6/multiprocessing/queues.py\", line 342, in get\n",
      "    with self._rlock:\n",
      "  File \"/home/centos/tools/anaconda3/lib/python3.6/multiprocessing/synchronize.py\", line 96, in __enter__\n",
      "    return self._semlock.__enter__()\n",
      "  File \"/home/centos/tools/anaconda3/lib/python3.6/multiprocessing/queues.py\", line 342, in get\n",
      "    with self._rlock:\n",
      "  File \"/home/centos/tools/anaconda3/lib/python3.6/multiprocessing/queues.py\", line 342, in get\n",
      "    with self._rlock:\n",
      "  File \"/home/centos/tools/anaconda3/lib/python3.6/multiprocessing/pool.py\", line 108, in worker\n",
      "    task = get()\n",
      "  File \"/home/centos/tools/anaconda3/lib/python3.6/multiprocessing/process.py\", line 249, in _bootstrap\n",
      "    self.run()\n",
      "  File \"/home/centos/tools/anaconda3/lib/python3.6/multiprocessing/synchronize.py\", line 96, in __enter__\n",
      "    return self._semlock.__enter__()\n",
      "Traceback (most recent call last):\n",
      "  File \"/home/centos/tools/anaconda3/lib/python3.6/multiprocessing/queues.py\", line 342, in get\n",
      "    with self._rlock:\n",
      "  File \"/home/centos/tools/anaconda3/lib/python3.6/multiprocessing/process.py\", line 249, in _bootstrap\n",
      "    self.run()\n",
      "  File \"/home/centos/tools/anaconda3/lib/python3.6/multiprocessing/pool.py\", line 108, in worker\n",
      "    task = get()\n",
      "  File \"/home/centos/tools/anaconda3/lib/python3.6/multiprocessing/queues.py\", line 342, in get\n",
      "    with self._rlock:\n",
      "Traceback (most recent call last):\n",
      "  File \"/home/centos/tools/anaconda3/lib/python3.6/multiprocessing/synchronize.py\", line 96, in __enter__\n",
      "    return self._semlock.__enter__()\n",
      "Traceback (most recent call last):\n",
      "KeyboardInterrupt\n",
      "  File \"/home/centos/tools/anaconda3/lib/python3.6/multiprocessing/pool.py\", line 108, in worker\n",
      "    task = get()\n",
      "  File \"/home/centos/tools/anaconda3/lib/python3.6/multiprocessing/process.py\", line 249, in _bootstrap\n",
      "    self.run()\n",
      "  File \"/home/centos/tools/anaconda3/lib/python3.6/multiprocessing/process.py\", line 249, in _bootstrap\n",
      "    self.run()\n",
      "  File \"/home/centos/tools/anaconda3/lib/python3.6/multiprocessing/synchronize.py\", line 96, in __enter__\n",
      "    return self._semlock.__enter__()\n",
      "  File \"/home/centos/tools/anaconda3/lib/python3.6/multiprocessing/process.py\", line 93, in run\n",
      "    self._target(*self._args, **self._kwargs)\n",
      "  File \"/home/centos/tools/anaconda3/lib/python3.6/multiprocessing/process.py\", line 93, in run\n",
      "    self._target(*self._args, **self._kwargs)\n",
      "  File \"/home/centos/tools/anaconda3/lib/python3.6/multiprocessing/process.py\", line 249, in _bootstrap\n",
      "    self.run()\n",
      "  File \"/home/centos/tools/anaconda3/lib/python3.6/multiprocessing/queues.py\", line 342, in get\n",
      "    with self._rlock:\n",
      "Traceback (most recent call last):\n",
      "  File \"/home/centos/tools/anaconda3/lib/python3.6/multiprocessing/process.py\", line 249, in _bootstrap\n",
      "    self.run()\n",
      "KeyboardInterrupt\n",
      "  File \"/home/centos/tools/anaconda3/lib/python3.6/multiprocessing/synchronize.py\", line 96, in __enter__\n",
      "    return self._semlock.__enter__()\n",
      "  File \"/home/centos/tools/anaconda3/lib/python3.6/multiprocessing/pool.py\", line 108, in worker\n",
      "    task = get()\n",
      "  File \"/home/centos/tools/anaconda3/lib/python3.6/multiprocessing/process.py\", line 93, in run\n",
      "    self._target(*self._args, **self._kwargs)\n",
      "  File \"/home/centos/tools/anaconda3/lib/python3.6/multiprocessing/queues.py\", line 342, in get\n",
      "    with self._rlock:\n",
      "  File \"/home/centos/tools/anaconda3/lib/python3.6/multiprocessing/process.py\", line 93, in run\n",
      "    self._target(*self._args, **self._kwargs)\n",
      "  File \"/home/centos/tools/anaconda3/lib/python3.6/multiprocessing/process.py\", line 93, in run\n",
      "    self._target(*self._args, **self._kwargs)\n",
      "  File \"/home/centos/tools/anaconda3/lib/python3.6/multiprocessing/synchronize.py\", line 96, in __enter__\n",
      "    return self._semlock.__enter__()\n",
      "  File \"/home/centos/tools/anaconda3/lib/python3.6/multiprocessing/process.py\", line 93, in run\n",
      "    self._target(*self._args, **self._kwargs)\n",
      "  File \"/home/centos/tools/anaconda3/lib/python3.6/multiprocessing/synchronize.py\", line 96, in __enter__\n",
      "    return self._semlock.__enter__()\n",
      "KeyboardInterrupt\n",
      "  File \"/home/centos/tools/anaconda3/lib/python3.6/multiprocessing/pool.py\", line 108, in worker\n",
      "    task = get()\n",
      "  File \"/home/centos/tools/anaconda3/lib/python3.6/multiprocessing/pool.py\", line 108, in worker\n",
      "    task = get()\n",
      "  File \"/home/centos/tools/anaconda3/lib/python3.6/multiprocessing/pool.py\", line 108, in worker\n",
      "    task = get()\n",
      "  File \"/home/centos/tools/anaconda3/lib/python3.6/multiprocessing/queues.py\", line 343, in get\n",
      "    res = self._reader.recv_bytes()\n",
      "KeyboardInterrupt\n",
      "KeyboardInterrupt\n",
      "  File \"/home/centos/tools/anaconda3/lib/python3.6/multiprocessing/synchronize.py\", line 96, in __enter__\n",
      "    return self._semlock.__enter__()\n"
     ]
    },
    {
     "name": "stderr",
     "output_type": "stream",
     "text": [
      "  File \"/home/centos/tools/anaconda3/lib/python3.6/multiprocessing/queues.py\", line 342, in get\n",
      "    with self._rlock:\n",
      "  File \"/home/centos/tools/anaconda3/lib/python3.6/multiprocessing/pool.py\", line 108, in worker\n",
      "    task = get()\n",
      "  File \"/home/centos/tools/anaconda3/lib/python3.6/multiprocessing/process.py\", line 249, in _bootstrap\n",
      "    self.run()\n",
      "  File \"/home/centos/tools/anaconda3/lib/python3.6/multiprocessing/queues.py\", line 342, in get\n",
      "    with self._rlock:\n",
      "KeyboardInterrupt\n",
      "  File \"/home/centos/tools/anaconda3/lib/python3.6/multiprocessing/process.py\", line 93, in run\n",
      "    self._target(*self._args, **self._kwargs)\n",
      "  File \"/home/centos/tools/anaconda3/lib/python3.6/multiprocessing/queues.py\", line 342, in get\n",
      "    with self._rlock:\n",
      "  File \"/home/centos/tools/anaconda3/lib/python3.6/multiprocessing/connection.py\", line 216, in recv_bytes\n",
      "    buf = self._recv_bytes(maxlength)\n",
      "  File \"/home/centos/tools/anaconda3/lib/python3.6/multiprocessing/pool.py\", line 108, in worker\n",
      "    task = get()\n",
      "  File \"/home/centos/tools/anaconda3/lib/python3.6/multiprocessing/pool.py\", line 108, in worker\n",
      "    task = get()\n",
      "  File \"/home/centos/tools/anaconda3/lib/python3.6/multiprocessing/process.py\", line 249, in _bootstrap\n",
      "    self.run()\n",
      "  File \"/home/centos/tools/anaconda3/lib/python3.6/multiprocessing/synchronize.py\", line 96, in __enter__\n",
      "    return self._semlock.__enter__()\n",
      "  File \"/home/centos/tools/anaconda3/lib/python3.6/multiprocessing/queues.py\", line 342, in get\n",
      "    with self._rlock:\n",
      "KeyboardInterrupt\n",
      "KeyboardInterrupt\n",
      "KeyboardInterrupt\n",
      "  File \"/home/centos/tools/anaconda3/lib/python3.6/multiprocessing/connection.py\", line 407, in _recv_bytes\n",
      "    buf = self._recv(4)\n",
      "  File \"/home/centos/tools/anaconda3/lib/python3.6/multiprocessing/queues.py\", line 343, in get\n",
      "    res = self._reader.recv_bytes()\n",
      "KeyboardInterrupt\n",
      "KeyboardInterrupt\n",
      "  File \"/home/centos/tools/anaconda3/lib/python3.6/multiprocessing/synchronize.py\", line 96, in __enter__\n",
      "    return self._semlock.__enter__()\n",
      "  File \"/home/centos/tools/anaconda3/lib/python3.6/multiprocessing/process.py\", line 93, in run\n",
      "    self._target(*self._args, **self._kwargs)\n",
      "  File \"/home/centos/tools/anaconda3/lib/python3.6/multiprocessing/synchronize.py\", line 96, in __enter__\n",
      "    return self._semlock.__enter__()\n",
      "  File \"/home/centos/tools/anaconda3/lib/python3.6/multiprocessing/connection.py\", line 379, in _recv\n",
      "    chunk = read(handle, remaining)\n",
      "  File \"/home/centos/tools/anaconda3/lib/python3.6/multiprocessing/connection.py\", line 216, in recv_bytes\n",
      "    buf = self._recv_bytes(maxlength)\n",
      "  File \"/home/centos/tools/anaconda3/lib/python3.6/multiprocessing/connection.py\", line 407, in _recv_bytes\n",
      "    buf = self._recv(4)\n",
      "  File \"/home/centos/tools/anaconda3/lib/python3.6/multiprocessing/pool.py\", line 108, in worker\n",
      "    task = get()\n",
      "KeyboardInterrupt\n",
      "  File \"/home/centos/tools/anaconda3/lib/python3.6/multiprocessing/synchronize.py\", line 96, in __enter__\n",
      "    return self._semlock.__enter__()\n",
      "  File \"/home/centos/tools/anaconda3/lib/python3.6/multiprocessing/queues.py\", line 342, in get\n",
      "    with self._rlock:\n",
      "KeyboardInterrupt\n",
      "  File \"/home/centos/tools/anaconda3/lib/python3.6/multiprocessing/synchronize.py\", line 96, in __enter__\n",
      "    return self._semlock.__enter__()\n",
      "  File \"/home/centos/tools/anaconda3/lib/python3.6/multiprocessing/connection.py\", line 379, in _recv\n",
      "    chunk = read(handle, remaining)\n",
      "  File \"/home/centos/tools/anaconda3/lib/python3.6/multiprocessing/queues.py\", line 342, in get\n",
      "    with self._rlock:\n",
      "  File \"/home/centos/tools/anaconda3/lib/python3.6/multiprocessing/synchronize.py\", line 96, in __enter__\n",
      "    return self._semlock.__enter__()\n",
      "KeyboardInterrupt\n",
      "KeyboardInterrupt\n",
      "KeyboardInterrupt\n"
     ]
    }
   ],
   "source": [
    "train_results, test_results = score_documents(index_full,\n",
    "                                              queries,\n",
    "                                              test_data,\n",
    "                                              train_data,\n",
    "                                              'data/docs_normed2.tsv',\n",
    "                                              'pkls/index_norm.pkl',\n",
    "                                              idf_smooth=0.5)"
   ]
  },
  {
   "cell_type": "code",
   "execution_count": 23,
   "metadata": {
    "collapsed": true
   },
   "outputs": [],
   "source": [
    "columns=['query_id', 'doc_id', 'score_title_bm25_smooth_norm',\n",
    "         'score_body_bm25_smooth_norm', 'score_whole_bm25_smooth_norm']\n",
    "save_pkls(train_results, test_results, columns, \"pkls/df_bm25_unigram_scores_smooth_norm_{}.pkl\")"
   ]
  },
  {
   "cell_type": "markdown",
   "metadata": {},
   "source": [
    "### Биграммы"
   ]
  },
  {
   "cell_type": "code",
   "execution_count": 24,
   "metadata": {
    "collapsed": true
   },
   "outputs": [],
   "source": [
    "index_full = utils.load_from_file('pkls/bm25_bigrams.pkl')\n",
    "index_full = utils.copy_model(index_full, Index)"
   ]
  },
  {
   "cell_type": "code",
   "execution_count": 25,
   "metadata": {
    "collapsed": true
   },
   "outputs": [],
   "source": [
    "utils.save_to_file(index_full, \"pkls/bm25_bigrams.pkl\")"
   ]
  },
  {
   "cell_type": "code",
   "execution_count": null,
   "metadata": {
    "collapsed": true
   },
   "outputs": [],
   "source": [
    "queries = utils.load_queries('data/queries_ec.tsv')"
   ]
  },
  {
   "cell_type": "code",
   "execution_count": null,
   "metadata": {},
   "outputs": [
    {
     "name": "stdout",
     "output_type": "stream",
     "text": [
      "Calc idfs\n",
      "Processing train, 3309 pairs\n",
      "Processed 138 query, doc pairs\n",
      "Processed 138 query, doc pairs\n",
      "Processed 138 query, doc pairs\n",
      "Processed 138 query, doc pairs\n",
      "Processed 138 query, doc pairs\n",
      "Processed 138 query, doc pairs\n",
      "Processed 138 query, doc pairs\n",
      "Processed 138 query, doc pairs\n",
      "Processed 138 query, doc pairs\n",
      "Processed 138 query, doc pairs\n",
      "Processed 138 query, doc pairs\n",
      "Processed 138 query, doc pairs\n",
      "Processed 138 query, doc pairs\n",
      "Processed 138 query, doc pairs\n",
      "Processed 138 query, doc pairs\n",
      "Processed 138 query, doc pairs\n",
      "Processed 138 query, doc pairs\n",
      "Processed 138 query, doc pairs\n",
      "Processed 138 query, doc pairs\n",
      "Processed 138 query, doc pairs\n",
      "Processed 135 query, doc pairs\n",
      "Processed 138 query, doc pairs\n",
      "Processed 138 query, doc pairs\n",
      "Processed 138 query, doc pairs\n",
      "Processing test, 816 pairs\n",
      "Processed 35 query, doc pairs\n",
      "Processed 35 query, doc pairs\n",
      "Processed 35 query, doc pairs\n",
      "Processed 35 query, doc pairs\n",
      "Processed 35 query, doc pairs\n",
      "Processed 35 query, doc pairs\n",
      "Processed 35 query, doc pairs\n",
      "Processed 35 query, doc pairs\n",
      "Processed 35 query, doc pairs\n",
      "Processed 35 query, doc pairs\n",
      "Processed 35 query, doc pairs\n",
      "Processed 35 query, doc pairs\n",
      "Processed 35 query, doc pairs\n",
      "Processed 35 query, doc pairs\n"
     ]
    },
    {
     "name": "stderr",
     "output_type": "stream",
     "text": [
      "Process ForkPoolWorker-38:\n",
      "Process ForkPoolWorker-36:\n",
      "Process ForkPoolWorker-47:\n",
      "Process ForkPoolWorker-48:\n",
      "Process ForkPoolWorker-34:\n",
      "Process ForkPoolWorker-41:\n",
      "Process ForkPoolWorker-45:\n",
      "Process ForkPoolWorker-39:\n",
      "Process ForkPoolWorker-44:\n",
      "Process ForkPoolWorker-46:\n",
      "Process ForkPoolWorker-43:\n",
      "Process ForkPoolWorker-35:\n",
      "Process ForkPoolWorker-42:\n",
      "Process ForkPoolWorker-40:\n",
      "Process ForkPoolWorker-33:\n",
      "Process ForkPoolWorker-37:\n",
      "Traceback (most recent call last):\n",
      "Traceback (most recent call last):\n",
      "Traceback (most recent call last):\n",
      "Traceback (most recent call last):\n",
      "Traceback (most recent call last):\n",
      "Traceback (most recent call last):\n",
      "  File \"/home/centos/tools/anaconda3/lib/python3.6/multiprocessing/process.py\", line 249, in _bootstrap\n",
      "    self.run()\n",
      "  File \"/home/centos/tools/anaconda3/lib/python3.6/multiprocessing/process.py\", line 249, in _bootstrap\n",
      "    self.run()\n",
      "Traceback (most recent call last):\n",
      "Traceback (most recent call last):\n",
      "Traceback (most recent call last):\n",
      "Traceback (most recent call last):\n",
      "  File \"/home/centos/tools/anaconda3/lib/python3.6/multiprocessing/process.py\", line 93, in run\n",
      "    self._target(*self._args, **self._kwargs)\n",
      "  File \"/home/centos/tools/anaconda3/lib/python3.6/multiprocessing/process.py\", line 93, in run\n",
      "    self._target(*self._args, **self._kwargs)\n",
      "Traceback (most recent call last):\n",
      "  File \"/home/centos/tools/anaconda3/lib/python3.6/multiprocessing/process.py\", line 249, in _bootstrap\n",
      "    self.run()\n",
      "  File \"/home/centos/tools/anaconda3/lib/python3.6/multiprocessing/process.py\", line 249, in _bootstrap\n",
      "    self.run()\n",
      "  File \"/home/centos/tools/anaconda3/lib/python3.6/multiprocessing/pool.py\", line 108, in worker\n",
      "    task = get()\n",
      "  File \"/home/centos/tools/anaconda3/lib/python3.6/multiprocessing/process.py\", line 249, in _bootstrap\n",
      "    self.run()\n",
      "  File \"/home/centos/tools/anaconda3/lib/python3.6/multiprocessing/process.py\", line 249, in _bootstrap\n",
      "    self.run()\n",
      "  File \"/home/centos/tools/anaconda3/lib/python3.6/multiprocessing/process.py\", line 249, in _bootstrap\n",
      "    self.run()\n",
      "  File \"/home/centos/tools/anaconda3/lib/python3.6/multiprocessing/process.py\", line 249, in _bootstrap\n",
      "    self.run()\n",
      "  File \"/home/centos/tools/anaconda3/lib/python3.6/multiprocessing/process.py\", line 93, in run\n",
      "    self._target(*self._args, **self._kwargs)\n",
      "  File \"/home/centos/tools/anaconda3/lib/python3.6/multiprocessing/process.py\", line 93, in run\n",
      "    self._target(*self._args, **self._kwargs)\n",
      "  File \"/home/centos/tools/anaconda3/lib/python3.6/multiprocessing/process.py\", line 93, in run\n",
      "    self._target(*self._args, **self._kwargs)\n",
      "  File \"/home/centos/tools/anaconda3/lib/python3.6/multiprocessing/process.py\", line 249, in _bootstrap\n",
      "    self.run()\n",
      "  File \"/home/centos/tools/anaconda3/lib/python3.6/multiprocessing/process.py\", line 93, in run\n",
      "    self._target(*self._args, **self._kwargs)\n",
      "  File \"/home/centos/tools/anaconda3/lib/python3.6/multiprocessing/process.py\", line 249, in _bootstrap\n",
      "    self.run()\n",
      "  File \"/home/centos/tools/anaconda3/lib/python3.6/multiprocessing/process.py\", line 93, in run\n",
      "    self._target(*self._args, **self._kwargs)\n",
      "  File \"/home/centos/tools/anaconda3/lib/python3.6/multiprocessing/pool.py\", line 108, in worker\n",
      "    task = get()\n",
      "  File \"/home/centos/tools/anaconda3/lib/python3.6/multiprocessing/pool.py\", line 108, in worker\n",
      "    task = get()\n",
      "  File \"/home/centos/tools/anaconda3/lib/python3.6/multiprocessing/pool.py\", line 108, in worker\n",
      "    task = get()\n",
      "  File \"/home/centos/tools/anaconda3/lib/python3.6/multiprocessing/pool.py\", line 108, in worker\n",
      "    task = get()\n",
      "  File \"/home/centos/tools/anaconda3/lib/python3.6/multiprocessing/process.py\", line 93, in run\n",
      "    self._target(*self._args, **self._kwargs)\n",
      "Traceback (most recent call last):\n",
      "  File \"/home/centos/tools/anaconda3/lib/python3.6/multiprocessing/queues.py\", line 342, in get\n",
      "    with self._rlock:\n",
      "  File \"/home/centos/tools/anaconda3/lib/python3.6/multiprocessing/queues.py\", line 342, in get\n",
      "    with self._rlock:\n",
      "  File \"/home/centos/tools/anaconda3/lib/python3.6/multiprocessing/pool.py\", line 108, in worker\n",
      "    task = get()\n",
      "Traceback (most recent call last):\n",
      "  File \"/home/centos/tools/anaconda3/lib/python3.6/multiprocessing/queues.py\", line 342, in get\n",
      "    with self._rlock:\n",
      "  File \"/home/centos/tools/anaconda3/lib/python3.6/multiprocessing/queues.py\", line 342, in get\n",
      "    with self._rlock:\n",
      "  File \"/home/centos/tools/anaconda3/lib/python3.6/multiprocessing/process.py\", line 93, in run\n",
      "    self._target(*self._args, **self._kwargs)\n",
      "  File \"/home/centos/tools/anaconda3/lib/python3.6/multiprocessing/queues.py\", line 342, in get\n",
      "    with self._rlock:\n",
      "  File \"/home/centos/tools/anaconda3/lib/python3.6/multiprocessing/pool.py\", line 108, in worker\n",
      "    task = get()\n",
      "  File \"/home/centos/tools/anaconda3/lib/python3.6/multiprocessing/process.py\", line 249, in _bootstrap\n",
      "    self.run()\n",
      "  File \"/home/centos/tools/anaconda3/lib/python3.6/multiprocessing/process.py\", line 249, in _bootstrap\n",
      "    self.run()\n",
      "  File \"/home/centos/tools/anaconda3/lib/python3.6/multiprocessing/synchronize.py\", line 96, in __enter__\n",
      "    return self._semlock.__enter__()\n",
      "  File \"/home/centos/tools/anaconda3/lib/python3.6/multiprocessing/synchronize.py\", line 96, in __enter__\n",
      "    return self._semlock.__enter__()\n",
      "  File \"/home/centos/tools/anaconda3/lib/python3.6/multiprocessing/queues.py\", line 342, in get\n",
      "    with self._rlock:\n",
      "  File \"/home/centos/tools/anaconda3/lib/python3.6/multiprocessing/synchronize.py\", line 96, in __enter__\n",
      "    return self._semlock.__enter__()\n",
      "  File \"/home/centos/tools/anaconda3/lib/python3.6/multiprocessing/synchronize.py\", line 96, in __enter__\n",
      "    return self._semlock.__enter__()\n",
      "  File \"/home/centos/tools/anaconda3/lib/python3.6/multiprocessing/pool.py\", line 108, in worker\n",
      "    task = get()\n",
      "  File \"/home/centos/tools/anaconda3/lib/python3.6/multiprocessing/process.py\", line 93, in run\n",
      "    self._target(*self._args, **self._kwargs)\n",
      "  File \"/home/centos/tools/anaconda3/lib/python3.6/multiprocessing/pool.py\", line 108, in worker\n",
      "    task = get()\n",
      "  File \"/home/centos/tools/anaconda3/lib/python3.6/multiprocessing/synchronize.py\", line 96, in __enter__\n",
      "    return self._semlock.__enter__()\n",
      "  File \"/home/centos/tools/anaconda3/lib/python3.6/multiprocessing/pool.py\", line 108, in worker\n",
      "    task = get()\n",
      "  File \"/home/centos/tools/anaconda3/lib/python3.6/multiprocessing/process.py\", line 249, in _bootstrap\n",
      "    self.run()\n",
      "  File \"/home/centos/tools/anaconda3/lib/python3.6/multiprocessing/queues.py\", line 342, in get\n",
      "    with self._rlock:\n",
      "  File \"/home/centos/tools/anaconda3/lib/python3.6/multiprocessing/synchronize.py\", line 96, in __enter__\n",
      "    return self._semlock.__enter__()\n",
      "KeyboardInterrupt\n",
      "  File \"/home/centos/tools/anaconda3/lib/python3.6/multiprocessing/synchronize.py\", line 96, in __enter__\n",
      "    return self._semlock.__enter__()\n",
      "  File \"/home/centos/tools/anaconda3/lib/python3.6/multiprocessing/process.py\", line 93, in run\n",
      "    self._target(*self._args, **self._kwargs)\n",
      "KeyboardInterrupt\n",
      "KeyboardInterrupt\n",
      "  File \"/home/centos/tools/anaconda3/lib/python3.6/multiprocessing/queues.py\", line 343, in get\n",
      "    res = self._reader.recv_bytes()\n",
      "Traceback (most recent call last):\n",
      "  File \"/home/centos/tools/anaconda3/lib/python3.6/multiprocessing/process.py\", line 249, in _bootstrap\n",
      "    self.run()\n",
      "  File \"/home/centos/tools/anaconda3/lib/python3.6/multiprocessing/queues.py\", line 342, in get\n",
      "    with self._rlock:\n",
      "KeyboardInterrupt\n",
      "Traceback (most recent call last):\n",
      "KeyboardInterrupt\n",
      "  File \"/home/centos/tools/anaconda3/lib/python3.6/multiprocessing/connection.py\", line 216, in recv_bytes\n",
      "    buf = self._recv_bytes(maxlength)\n",
      "  File \"/home/centos/tools/anaconda3/lib/python3.6/multiprocessing/process.py\", line 93, in run\n",
      "    self._target(*self._args, **self._kwargs)\n",
      "KeyboardInterrupt\n",
      "  File \"/home/centos/tools/anaconda3/lib/python3.6/multiprocessing/process.py\", line 93, in run\n",
      "    self._target(*self._args, **self._kwargs)\n",
      "KeyboardInterrupt\n",
      "  File \"/home/centos/tools/anaconda3/lib/python3.6/multiprocessing/process.py\", line 93, in run\n",
      "    self._target(*self._args, **self._kwargs)\n",
      "  File \"/home/centos/tools/anaconda3/lib/python3.6/multiprocessing/pool.py\", line 108, in worker\n",
      "    task = get()\n"
     ]
    },
    {
     "name": "stderr",
     "output_type": "stream",
     "text": [
      "  File \"/home/centos/tools/anaconda3/lib/python3.6/multiprocessing/process.py\", line 249, in _bootstrap\n",
      "    self.run()\n",
      "  File \"/home/centos/tools/anaconda3/lib/python3.6/multiprocessing/synchronize.py\", line 96, in __enter__\n",
      "    return self._semlock.__enter__()\n",
      "  File \"/home/centos/tools/anaconda3/lib/python3.6/multiprocessing/queues.py\", line 342, in get\n",
      "    with self._rlock:\n",
      "  File \"/home/centos/tools/anaconda3/lib/python3.6/multiprocessing/connection.py\", line 407, in _recv_bytes\n",
      "    buf = self._recv(4)\n",
      "  File \"/home/centos/tools/anaconda3/lib/python3.6/multiprocessing/process.py\", line 93, in run\n",
      "    self._target(*self._args, **self._kwargs)\n",
      "  File \"/home/centos/tools/anaconda3/lib/python3.6/multiprocessing/queues.py\", line 342, in get\n",
      "    with self._rlock:\n",
      "  File \"/home/centos/tools/anaconda3/lib/python3.6/multiprocessing/connection.py\", line 379, in _recv\n",
      "    chunk = read(handle, remaining)\n",
      "  File \"/home/centos/tools/anaconda3/lib/python3.6/multiprocessing/queues.py\", line 342, in get\n",
      "    with self._rlock:\n",
      "Traceback (most recent call last):\n",
      "  File \"/home/centos/tools/anaconda3/lib/python3.6/multiprocessing/pool.py\", line 108, in worker\n",
      "    task = get()\n",
      "  File \"/home/centos/tools/anaconda3/lib/python3.6/multiprocessing/pool.py\", line 108, in worker\n",
      "    task = get()\n",
      "  File \"/home/centos/tools/anaconda3/lib/python3.6/multiprocessing/process.py\", line 249, in _bootstrap\n",
      "    self.run()\n",
      "KeyboardInterrupt\n",
      "  File \"/home/centos/tools/anaconda3/lib/python3.6/multiprocessing/synchronize.py\", line 96, in __enter__\n",
      "    return self._semlock.__enter__()\n",
      "  File \"/home/centos/tools/anaconda3/lib/python3.6/multiprocessing/pool.py\", line 108, in worker\n",
      "    task = get()\n",
      "  File \"/home/centos/tools/anaconda3/lib/python3.6/multiprocessing/pool.py\", line 108, in worker\n",
      "    task = get()\n",
      "  File \"/home/centos/tools/anaconda3/lib/python3.6/multiprocessing/pool.py\", line 108, in worker\n",
      "    task = get()\n",
      "  File \"/home/centos/tools/anaconda3/lib/python3.6/multiprocessing/process.py\", line 93, in run\n",
      "    self._target(*self._args, **self._kwargs)\n",
      "KeyboardInterrupt\n",
      "  File \"/home/centos/tools/anaconda3/lib/python3.6/multiprocessing/synchronize.py\", line 96, in __enter__\n",
      "    return self._semlock.__enter__()\n",
      "  File \"/home/centos/tools/anaconda3/lib/python3.6/multiprocessing/queues.py\", line 343, in get\n",
      "    res = self._reader.recv_bytes()\n",
      "  File \"/home/centos/tools/anaconda3/lib/python3.6/multiprocessing/queues.py\", line 342, in get\n",
      "    with self._rlock:\n",
      "  File \"/home/centos/tools/anaconda3/lib/python3.6/multiprocessing/queues.py\", line 342, in get\n",
      "    with self._rlock:\n",
      "  File \"/home/centos/tools/anaconda3/lib/python3.6/multiprocessing/synchronize.py\", line 96, in __enter__\n",
      "    return self._semlock.__enter__()\n",
      "  File \"/home/centos/tools/anaconda3/lib/python3.6/multiprocessing/connection.py\", line 216, in recv_bytes\n",
      "    buf = self._recv_bytes(maxlength)\n",
      "KeyboardInterrupt\n",
      "KeyboardInterrupt\n",
      "  File \"/home/centos/tools/anaconda3/lib/python3.6/multiprocessing/synchronize.py\", line 96, in __enter__\n",
      "    return self._semlock.__enter__()\n",
      "KeyboardInterrupt\n",
      "  File \"/home/centos/tools/anaconda3/lib/python3.6/multiprocessing/queues.py\", line 342, in get\n",
      "    with self._rlock:\n",
      "KeyboardInterrupt\n",
      "  File \"/home/centos/tools/anaconda3/lib/python3.6/multiprocessing/synchronize.py\", line 96, in __enter__\n",
      "    return self._semlock.__enter__()\n",
      "KeyboardInterrupt\n",
      "  File \"/home/centos/tools/anaconda3/lib/python3.6/multiprocessing/synchronize.py\", line 96, in __enter__\n",
      "    return self._semlock.__enter__()\n",
      "  File \"/home/centos/tools/anaconda3/lib/python3.6/multiprocessing/connection.py\", line 407, in _recv_bytes\n",
      "    buf = self._recv(4)\n",
      "  File \"/home/centos/tools/anaconda3/lib/python3.6/multiprocessing/connection.py\", line 379, in _recv\n",
      "    chunk = read(handle, remaining)\n",
      "KeyboardInterrupt\n",
      "KeyboardInterrupt\n"
     ]
    }
   ],
   "source": [
    "train_results, test_results = score_documents(index_full,\n",
    "                                              queries,\n",
    "                                              test_data,\n",
    "                                              train_data,\n",
    "                                              'data/docs.tsv',\n",
    "                                              'pkls/index.pkl',\n",
    "                                              idf_smooth=0.5)"
   ]
  },
  {
   "cell_type": "code",
   "execution_count": null,
   "metadata": {
    "collapsed": true
   },
   "outputs": [],
   "source": [
    "columns=['query_id', 'doc_id', 'score_title_bm25_bigram_smooth',\n",
    "         'score_body_bm25_bigram_smooth', 'score_whole_bm25_bigram_smooth']\n",
    "save_pkls(train_results, test_results, columns, \"pkls/df_bm25_bigram_scores_smooth_{}.pkl\")"
   ]
  },
  {
   "cell_type": "markdown",
   "metadata": {},
   "source": [
    "### Биграммы норм"
   ]
  },
  {
   "cell_type": "code",
   "execution_count": 14,
   "metadata": {
    "collapsed": true
   },
   "outputs": [],
   "source": [
    "index_full = utils.load_from_file('pkls/bm25_bigrams_norm.pkl')\n",
    "#index_full = utils.copy_model(index_full, Index)"
   ]
  },
  {
   "cell_type": "code",
   "execution_count": 15,
   "metadata": {
    "collapsed": true
   },
   "outputs": [],
   "source": [
    "#utils.save_to_file(index_full, \"pkls/bm25_bigrams_norm.pkl\")"
   ]
  },
  {
   "cell_type": "code",
   "execution_count": 16,
   "metadata": {
    "collapsed": true
   },
   "outputs": [],
   "source": [
    "queries = utils.load_queries('data/queries_norm.tsv')"
   ]
  },
  {
   "cell_type": "code",
   "execution_count": 17,
   "metadata": {},
   "outputs": [
    {
     "name": "stdout",
     "output_type": "stream",
     "text": [
      "Calc idfs\n",
      "Processing train, 3309 pairs\n",
      "Processed 138 query, doc pairs\n",
      "Processed 138 query, doc pairs\n",
      "Processed 138 query, doc pairs\n",
      "Processed 138 query, doc pairs\n",
      "Processed 138 query, doc pairs\n",
      "Processed 138 query, doc pairs\n",
      "Processed 138 query, doc pairs\n",
      "Processed 138 query, doc pairs\n",
      "Processed 138 query, doc pairs\n",
      "Processed 138 query, doc pairs\n",
      "Processed 138 query, doc pairs\n",
      "Processed 138 query, doc pairs\n",
      "Processed 138 query, doc pairs\n",
      "Processed 138 query, doc pairs\n",
      "Processed 138 query, doc pairs\n",
      "Processed 138 query, doc pairs\n",
      "Processed 138 query, doc pairs\n",
      "Processed 138 query, doc pairs\n",
      "Processed 138 query, doc pairs\n",
      "Processed 138 query, doc pairs\n",
      "Processed 135 query, doc pairs\n",
      "Processed 138 query, doc pairs\n",
      "Processed 138 query, doc pairs\n",
      "Processed 138 query, doc pairs\n",
      "Processing test, 816 pairs\n",
      "Processed 35 query, doc pairs\n",
      "Processed 35 query, doc pairs\n",
      "Processed 35 query, doc pairs\n",
      "Processed 35 query, doc pairs\n",
      "Processed 35 query, doc pairs\n",
      "Processed 35 query, doc pairs\n",
      "Processed 35 query, doc pairs\n",
      "Processed 35 query, doc pairs\n",
      "Processed 35 query, doc pairs\n",
      "Processed 35 query, doc pairs\n",
      "Processed 35 query, doc pairs\n",
      "Processed 35 query, doc pairs\n",
      "Processed 35 query, doc pairs\n",
      "Processed 35 query, doc pairs\n",
      "Processed 35 query, doc pairs\n",
      "Processed 35 query, doc pairs\n",
      "Processed 35 query, doc pairs\n",
      "Processed 35 query, doc pairs\n",
      "Processed 11 query, doc pairs\n",
      "Processed 35 query, doc pairs\n",
      "Processed 35 query, doc pairs\n",
      "Processed 35 query, doc pairs\n",
      "Processed 35 query, doc pairs\n",
      "Processed 35 query, doc pairs\n"
     ]
    }
   ],
   "source": [
    "train_results, test_results = score_documents(index_full,\n",
    "                                              queries,\n",
    "                                              test_data,\n",
    "                                              train_data,\n",
    "                                              'data/docs_normed2.tsv',\n",
    "                                              'pkls/index_norm.pkl',\n",
    "                                              idf_smooth=0.5)"
   ]
  },
  {
   "cell_type": "code",
   "execution_count": 18,
   "metadata": {
    "collapsed": true
   },
   "outputs": [],
   "source": [
    "columns=['query_id', 'doc_id', 'score_title_bm25_bigram_smooth_norm',\n",
    "         'score_body_bm25_bigram_smooth_norm', 'score_whole_bm25_bigram_smooth_norm']\n",
    "save_pkls(train_results, test_results, columns, \"pkls/df_bm25_bigram_scores_smooth_{}.pkl\")"
   ]
  },
  {
   "cell_type": "markdown",
   "metadata": {},
   "source": [
    "### Триграммы"
   ]
  },
  {
   "cell_type": "code",
   "execution_count": 19,
   "metadata": {
    "collapsed": true
   },
   "outputs": [],
   "source": [
    "index_full = utils.load_from_file('pkls/bm25_char_trigrams.pkl')\n",
    "index_full = utils.copy_model(index_full, Index)"
   ]
  },
  {
   "cell_type": "code",
   "execution_count": 20,
   "metadata": {
    "collapsed": true
   },
   "outputs": [],
   "source": [
    "utils.save_to_file(index_full, \"pkls/bm25_char_trigrams.pkl\")"
   ]
  },
  {
   "cell_type": "code",
   "execution_count": null,
   "metadata": {
    "collapsed": true
   },
   "outputs": [],
   "source": [
    "queries = utils.load_queries('data/queries_ec.tsv')"
   ]
  },
  {
   "cell_type": "code",
   "execution_count": null,
   "metadata": {},
   "outputs": [
    {
     "name": "stdout",
     "output_type": "stream",
     "text": [
      "Calc idfs\n",
      "Processing train, 3309 pairs\n"
     ]
    }
   ],
   "source": [
    "train_results, test_results = score_documents(index_full,\n",
    "                                              queries,\n",
    "                                              test_data,\n",
    "                                              train_data,\n",
    "                                              'data/docs.tsv',\n",
    "                                              'pkls/index.pkl',\n",
    "                                              idf_smooth=0.5)"
   ]
  },
  {
   "cell_type": "code",
   "execution_count": null,
   "metadata": {
    "collapsed": true
   },
   "outputs": [],
   "source": [
    "columns=['query_id', 'doc_id', 'score_title_bm25_char_trigram_smooth',\n",
    "         'score_body_bm25_char_trigram_smooth', 'score_whole_bm25_char_trigram_smooth']\n",
    "save_pkls(train_results, test_results, columns, \"pkls/df_bm25_char_trigram_scores_smooth_{}.pkl\")"
   ]
  },
  {
   "cell_type": "code",
   "execution_count": null,
   "metadata": {
    "collapsed": true
   },
   "outputs": [],
   "source": []
  }
 ],
 "metadata": {
  "anaconda-cloud": {},
  "kernelspec": {
   "display_name": "Python [conda root]",
   "language": "python",
   "name": "conda-root-py"
  },
  "language_info": {
   "codemirror_mode": {
    "name": "ipython",
    "version": 3
   },
   "file_extension": ".py",
   "mimetype": "text/x-python",
   "name": "python",
   "nbconvert_exporter": "python",
   "pygments_lexer": "ipython3",
   "version": "3.6.1"
  }
 },
 "nbformat": 4,
 "nbformat_minor": 2
}
