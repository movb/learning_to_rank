{
 "cells": [
  {
   "cell_type": "code",
   "execution_count": 1,
   "metadata": {
    "collapsed": true
   },
   "outputs": [],
   "source": [
    "import pandas as pd\n",
    "import numpy as np\n",
    "#import pymorphy2\n",
    "from collections import Counter, defaultdict\n",
    "import utils\n",
    "import sys\n",
    "from index import Index\n",
    "import index\n",
    "import score\n",
    "\n",
    "#%load_ext autoreload\n",
    "#%autoreload 2"
   ]
  },
  {
   "cell_type": "code",
   "execution_count": 2,
   "metadata": {
    "collapsed": false
   },
   "outputs": [],
   "source": [
    "from importlib import reload\n",
    "index = reload(index)\n",
    "Index = index.Index\n",
    "score = reload(score)"
   ]
  },
  {
   "cell_type": "code",
   "execution_count": 3,
   "metadata": {
    "collapsed": true
   },
   "outputs": [],
   "source": [
    "docf = utils.DocWrap('data/docs_normed2.tsv', 'pkls/index_norm.pkl')"
   ]
  },
  {
   "cell_type": "code",
   "execution_count": 4,
   "metadata": {
    "collapsed": true
   },
   "outputs": [],
   "source": [
    "bigrams_cnt = utils.load_from_file(\"pkls/bigrams_norm_cnt.pkl\")"
   ]
  },
  {
   "cell_type": "code",
   "execution_count": 5,
   "metadata": {
    "collapsed": true
   },
   "outputs": [],
   "source": [
    "index_full = Index('data/docs_normed2.tsv', norm_method = 'word_bigrams', debug=1)"
   ]
  },
  {
   "cell_type": "code",
   "execution_count": 6,
   "metadata": {
    "collapsed": true
   },
   "outputs": [],
   "source": [
    "#index_full = utils.load_from_file('bm25_bigrams.pkl')"
   ]
  },
  {
   "cell_type": "code",
   "execution_count": 7,
   "metadata": {
    "collapsed": false
   },
   "outputs": [],
   "source": [
    "index_full.bigram_filter = set(bigrams_cnt)\n",
    "#index_full.stop_words = stop_words"
   ]
  },
  {
   "cell_type": "code",
   "execution_count": null,
   "metadata": {
    "collapsed": false
   },
   "outputs": [
    {
     "name": "stderr",
     "output_type": "stream",
     "text": [
      "Processed documents 256100"
     ]
    }
   ],
   "source": [
    "index_full.build()"
   ]
  },
  {
   "cell_type": "code",
   "execution_count": null,
   "metadata": {
    "collapsed": true
   },
   "outputs": [],
   "source": [
    "utils.save_to_file(index_full, \"pkls/bm25_bigrams_norm.pkl\")"
   ]
  },
  {
   "cell_type": "code",
   "execution_count": 10,
   "metadata": {
    "collapsed": true
   },
   "outputs": [],
   "source": [
    "queries = utils.load_queries('data/queries_norm.tsv')\n",
    "test_data = utils.load_test('data/test.tsv')\n",
    "train_data = utils.load_train('data/clicks.train.tsv')"
   ]
  },
  {
   "cell_type": "code",
   "execution_count": 11,
   "metadata": {
    "collapsed": true
   },
   "outputs": [],
   "source": [
    "def score_qd(query, doc_id, idf_smooth=0):\n",
    "    title, body = docf.get(doc_id)\n",
    "    return score.score_bm25(index_full, query, title, body, idf_smooth=idf_smooth)"
   ]
  },
  {
   "cell_type": "code",
   "execution_count": null,
   "metadata": {
    "collapsed": false
   },
   "outputs": [],
   "source": [
    "results = []\n",
    "for query_id, docs in test_data:\n",
    "    query = queries[query_id]\n",
    "    for doc_id in docs:\n",
    "        title_score, body_score, whole_score = score_qd(query, doc_id, 0)\n",
    "        results.append((query_id, doc_id, title_score, body_score, whole_score))"
   ]
  },
  {
   "cell_type": "code",
   "execution_count": null,
   "metadata": {
    "collapsed": true
   },
   "outputs": [],
   "source": [
    "df = pd.DataFrame(results, columns=['query_id', 'doc_id', 'score_title_bm25_bigram_norm',\n",
    "                                    'score_body_bm25_bigram_norm',\n",
    "                                    'score_whole_bm25_bigram_norm'])"
   ]
  },
  {
   "cell_type": "code",
   "execution_count": null,
   "metadata": {
    "collapsed": true
   },
   "outputs": [],
   "source": [
    "utils.save_to_file(df, \"pkls/df_bm25_bigram_scores_norm.pkl\")"
   ]
  },
  {
   "cell_type": "code",
   "execution_count": null,
   "metadata": {
    "collapsed": false
   },
   "outputs": [],
   "source": [
    "results = []\n",
    "for query_id, docs in test_data:\n",
    "    query = queries[query_id]\n",
    "    for doc_id in docs:\n",
    "        title_score, body_score, whole_score = score_qd(query, doc_id, idf_smooth=0.5)\n",
    "        results.append((query_id, doc_id, title_score, body_score, whole_score))"
   ]
  },
  {
   "cell_type": "code",
   "execution_count": null,
   "metadata": {
    "collapsed": true
   },
   "outputs": [],
   "source": [
    "df = pd.DataFrame(results, columns=['query_id', 'doc_id',\n",
    "                                    'score_title_bm25_bigram_smooth_norm',\n",
    "                                    'score_body_bm25_bigram_smooth_norm',\n",
    "                                    'score_whole_bm25_bigram_smooth_norm'])"
   ]
  },
  {
   "cell_type": "code",
   "execution_count": null,
   "metadata": {
    "collapsed": true
   },
   "outputs": [],
   "source": [
    "utils.save_to_file(df, \"pkls/df_bm25_bigram_scores_smooth_norm.pkl\")"
   ]
  },
  {
   "cell_type": "code",
   "execution_count": null,
   "metadata": {
    "collapsed": true
   },
   "outputs": [],
   "source": [
    "results = []\n",
    "for query_id, docs, clicks in train_data:\n",
    "    query = queries[query_id]\n",
    "    for doc_id in docs:\n",
    "        title_score, body_score, whole_score = score_qd(query, doc_id, idf_smooth=0)\n",
    "        results.append((query_id, doc_id, title_score, body_score, whole_score))"
   ]
  },
  {
   "cell_type": "code",
   "execution_count": null,
   "metadata": {
    "collapsed": true
   },
   "outputs": [],
   "source": [
    "df = pd.DataFrame(results, columns=['query_id', 'doc_id',\n",
    "                                    'score_title_bm25_bigram_norm',\n",
    "                                    'score_body_bm25_bigram_norm',\n",
    "                                    'score_whole_bm25_bigram_norm'])"
   ]
  },
  {
   "cell_type": "code",
   "execution_count": null,
   "metadata": {
    "collapsed": true
   },
   "outputs": [],
   "source": [
    "utils.save_to_file(df, \"pkls/df_train_bm25_bigram_scores_norm.pkl\")"
   ]
  },
  {
   "cell_type": "code",
   "execution_count": null,
   "metadata": {
    "collapsed": true
   },
   "outputs": [],
   "source": [
    "results = []\n",
    "for query_id, docs, clicks in train_data:\n",
    "    query = queries[query_id]\n",
    "    for doc_id in docs:\n",
    "        title_score, body_score, whole_score = score_qd(query, doc_id, idf_smooth=0.5)\n",
    "        results.append((query_id, doc_id, title_score, body_score, whole_score))"
   ]
  },
  {
   "cell_type": "code",
   "execution_count": null,
   "metadata": {
    "collapsed": true
   },
   "outputs": [],
   "source": [
    "df = pd.DataFrame(results, columns=['query_id', 'doc_id',\n",
    "                                    'score_title_bm25_bigram_smooth_norm',\n",
    "                                    'score_body_bm25_bigram_smooth_norm',\n",
    "                                    'score_whole_bm25_bigram_smooth_norm'])"
   ]
  },
  {
   "cell_type": "code",
   "execution_count": null,
   "metadata": {
    "collapsed": true
   },
   "outputs": [],
   "source": [
    "utils.save_to_file(df, \"pkls/df_train_bm25_bigram_scores_smooth_norm.pkl\")"
   ]
  },
  {
   "cell_type": "code",
   "execution_count": null,
   "metadata": {
    "collapsed": true
   },
   "outputs": [],
   "source": []
  }
 ],
 "metadata": {
  "anaconda-cloud": {},
  "kernelspec": {
   "display_name": "Python [default]",
   "language": "python",
   "name": "python3"
  },
  "language_info": {
   "codemirror_mode": {
    "name": "ipython",
    "version": 3
   },
   "file_extension": ".py",
   "mimetype": "text/x-python",
   "name": "python",
   "nbconvert_exporter": "python",
   "pygments_lexer": "ipython3",
   "version": "3.5.2"
  }
 },
 "nbformat": 4,
 "nbformat_minor": 2
}
