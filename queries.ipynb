{
 "cells": [
  {
   "cell_type": "code",
   "execution_count": 1,
   "metadata": {
    "collapsed": false
   },
   "outputs": [],
   "source": [
    "import numpy as np\n",
    "import pandas as pd\n",
    "import utils\n",
    "from collections import Counter\n",
    "import pymorphy2\n",
    "import sys"
   ]
  },
  {
   "cell_type": "code",
   "execution_count": 2,
   "metadata": {
    "collapsed": true
   },
   "outputs": [],
   "source": [
    "cache = dict()\n",
    "morph = pymorphy2.MorphAnalyzer()"
   ]
  },
  {
   "cell_type": "code",
   "execution_count": 6,
   "metadata": {
    "collapsed": true
   },
   "outputs": [],
   "source": [
    "def norm_word(word):\n",
    "    if word in cache:\n",
    "        return cache[word]\n",
    "    parsed = morph.parse(word)\n",
    "    if len(parsed) == 0:\n",
    "        cache[word] = word\n",
    "        return word\n",
    "    cache[word] = parsed[0].normal_form    \n",
    "    return parsed[0].normal_form"
   ]
  },
  {
   "cell_type": "code",
   "execution_count": 3,
   "metadata": {
    "collapsed": true
   },
   "outputs": [],
   "source": [
    "queries = utils.load_queries('data/queries_ec.tsv')"
   ]
  },
  {
   "cell_type": "code",
   "execution_count": 11,
   "metadata": {
    "collapsed": false
   },
   "outputs": [],
   "source": [
    "unigrams_cnt = Counter()\n",
    "bigrams_cnt = Counter()\n",
    "char_trigrams_cnt = Counter()\n",
    "unigrams_norm_cnt = Counter()\n",
    "bigrams_norm_cnt = Counter()\n",
    "char_trigrams_cnt = Counter()\n",
    "char_trigrams_norm_cnt = Counter()"
   ]
  },
  {
   "cell_type": "code",
   "execution_count": 14,
   "metadata": {
    "collapsed": true
   },
   "outputs": [],
   "source": [
    "def get_unigrams(words, norm=False):\n",
    "    unigrams = []\n",
    "    for word in words:\n",
    "        if norm:\n",
    "            unigrams.append(norm_word(word))\n",
    "        else:\n",
    "            unigrams.append(word)\n",
    "    return unigrams"
   ]
  },
  {
   "cell_type": "code",
   "execution_count": 21,
   "metadata": {
    "collapsed": true
   },
   "outputs": [],
   "source": [
    "def get_bigrams(unigrams):\n",
    "    bigrams = []\n",
    "    for i in range(0,len(unigrams)-1):\n",
    "        bigrams.append(unigrams[i]+\" \"+unigrams[i+1])\n",
    "    return bigrams"
   ]
  },
  {
   "cell_type": "code",
   "execution_count": 22,
   "metadata": {
    "collapsed": true
   },
   "outputs": [],
   "source": [
    "def get_char_trigrams(unigrams):\n",
    "    char_trigrams = []\n",
    "    for unigram in unigrams:\n",
    "        for i in range(0,len(unigram)-2):\n",
    "            char_trigrams.append(unigram[i:i+3])\n",
    "    return char_trigrams"
   ]
  },
  {
   "cell_type": "code",
   "execution_count": 23,
   "metadata": {
    "collapsed": false
   },
   "outputs": [],
   "source": [
    "for query_id, query in queries.items():\n",
    "    words = query.split(\" \")\n",
    "    unigrams = get_unigrams(words)\n",
    "    unigrams_norm = get_unigrams(words, True)\n",
    "    bigrams = get_bigrams(unigrams)\n",
    "    bigrams_norm = get_bigrams(unigrams_norm)\n",
    "    char_trigrams = get_char_trigrams(unigrams)\n",
    "    char_trigrams_norm = get_char_trigrams(unigrams_norm)\n",
    "    \n",
    "    unigrams_cnt.update(unigrams)\n",
    "    bigrams_cnt.update(bigrams)\n",
    "    char_trigrams_cnt.update(char_trigrams)\n",
    "    unigrams_norm_cnt.update(unigrams_norm)\n",
    "    bigrams_norm_cnt.update(bigrams_norm)\n",
    "    char_trigrams_norm_cnt.update(char_trigrams_norm)"
   ]
  },
  {
   "cell_type": "code",
   "execution_count": 33,
   "metadata": {
    "collapsed": false
   },
   "outputs": [],
   "source": [
    "min_words = {x:v for x,v in unigrams_cnt.items() if v < 2}"
   ]
  },
  {
   "cell_type": "code",
   "execution_count": 39,
   "metadata": {
    "collapsed": false
   },
   "outputs": [
    {
     "data": {
      "text/plain": [
       "18362"
      ]
     },
     "execution_count": 39,
     "metadata": {},
     "output_type": "execute_result"
    }
   ],
   "source": [
    "len(bigrams_cnt)"
   ]
  },
  {
   "cell_type": "code",
   "execution_count": 40,
   "metadata": {
    "collapsed": true
   },
   "outputs": [],
   "source": [
    "utils.save_to_file(unigrams_cnt, \"pkls/unigrams_cnt.pkl\")\n",
    "utils.save_to_file(bigrams_cnt, \"pkls/bigrams_cnt.pkl\")\n",
    "utils.save_to_file(char_trigrams_cnt, \"pkls/char_trigrams_cnt.pkl\")\n",
    "utils.save_to_file(unigrams_norm_cnt, \"pkls/unigrams_norm_cnt.pkl\")\n",
    "utils.save_to_file(bigrams_norm_cnt, \"pkls/bigrams_norm_cnt.pkl\")\n",
    "utils.save_to_file(char_trigrams_norm_cnt, \"pkls/char_trigrams_norm_cnt.pkl\")"
   ]
  },
  {
   "cell_type": "markdown",
   "metadata": {
    "collapsed": true
   },
   "source": [
    "### normalize queries"
   ]
  },
  {
   "cell_type": "code",
   "execution_count": 42,
   "metadata": {
    "collapsed": true
   },
   "outputs": [],
   "source": [
    "with open(\"data/queries_ec.tsv\", 'rt') as fd, open(\"data/queries_norm.tsv\", \"wt\") as outfd:\n",
    "    for line in fd:\n",
    "        parts = line.strip().split('\\t')\n",
    "        words = parts[1].split(' ')\n",
    "        words = [norm_word(x) for x in words]\n",
    "        print(\"{}\\t{}\".format(parts[0],\" \".join(words)), file=outfd)"
   ]
  },
  {
   "cell_type": "code",
   "execution_count": null,
   "metadata": {
    "collapsed": true
   },
   "outputs": [],
   "source": []
  }
 ],
 "metadata": {
  "anaconda-cloud": {},
  "kernelspec": {
   "display_name": "Python [conda env:work]",
   "language": "python",
   "name": "conda-env-work-py"
  },
  "language_info": {
   "codemirror_mode": {
    "name": "ipython",
    "version": 3
   },
   "file_extension": ".py",
   "mimetype": "text/x-python",
   "name": "python",
   "nbconvert_exporter": "python",
   "pygments_lexer": "ipython3",
   "version": "3.5.2"
  }
 },
 "nbformat": 4,
 "nbformat_minor": 1
}
